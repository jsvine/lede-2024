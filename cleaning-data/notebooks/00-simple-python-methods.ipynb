{
 "cells": [
  {
   "cell_type": "markdown",
   "id": "d05c467b",
   "metadata": {
    "editable": true,
    "slideshow": {
     "slide_type": "slide"
    },
    "tags": []
   },
   "source": [
    "# 🧹 Cleaning Data, Part 1: Helpful Python Functions\n",
    "\n",
    "*Basic methods for common issues.*"
   ]
  },
  {
   "cell_type": "markdown",
   "id": "1b5264f0",
   "metadata": {
    "editable": true,
    "slideshow": {
     "slide_type": "slide"
    },
    "tags": []
   },
   "source": [
    "As you've probably gathered from your coursework so far, computer programs take things very literally. Differences that look small to humans — such as `\"1,000 dollars\"` vs. `\"1000 dollars\"` — can cause problems for computation."
   ]
  },
  {
   "cell_type": "markdown",
   "id": "41ac624a",
   "metadata": {
    "editable": true,
    "slideshow": {
     "slide_type": "subslide"
    },
    "tags": []
   },
   "source": [
    "The data we get is rarely as clean as we'd like. So let's explore some options for cleaning.\n",
    "\n",
    "For starters, let's take a tour of common Python functions that can help."
   ]
  },
  {
   "cell_type": "markdown",
   "id": "3002c503",
   "metadata": {
    "editable": true,
    "slideshow": {
     "slide_type": "slide"
    },
    "tags": []
   },
   "source": [
    "## Some common ways data can be messy"
   ]
  },
  {
   "cell_type": "markdown",
   "id": "e404f454",
   "metadata": {
    "editable": true,
    "slideshow": {
     "slide_type": "subslide"
    },
    "tags": []
   },
   "source": [
    "__Problem__: Leading/trailing whitespace (or other characters)\n",
    "\n",
    "__Examples__:\n",
    "    \n",
    "- `Fish tacos    `\n",
    "- `    Fish tacos`\n",
    "- `   Fish tacos   `\n",
    "\n",
    "__Solution__: `.strip(...)`"
   ]
  },
  {
   "cell_type": "code",
   "execution_count": 1,
   "id": "4440755c",
   "metadata": {
    "editable": true,
    "slideshow": {
     "slide_type": "subslide"
    },
    "tags": []
   },
   "outputs": [
    {
     "data": {
      "text/plain": [
       "'Fish tacos'"
      ]
     },
     "execution_count": 1,
     "metadata": {},
     "output_type": "execute_result"
    }
   ],
   "source": [
    "\"Fish tacos    \".strip()"
   ]
  },
  {
   "cell_type": "code",
   "execution_count": 2,
   "id": "433d6a8e",
   "metadata": {
    "editable": true,
    "slideshow": {
     "slide_type": "-"
    },
    "tags": []
   },
   "outputs": [
    {
     "data": {
      "text/plain": [
       "'Fish tacos'"
      ]
     },
     "execution_count": 2,
     "metadata": {},
     "output_type": "execute_result"
    }
   ],
   "source": [
    "\"    Fish tacos\".strip()"
   ]
  },
  {
   "cell_type": "code",
   "execution_count": 3,
   "id": "3b6cca07",
   "metadata": {
    "editable": true,
    "slideshow": {
     "slide_type": "-"
    },
    "tags": []
   },
   "outputs": [
    {
     "data": {
      "text/plain": [
       "'Fish tacos'"
      ]
     },
     "execution_count": 3,
     "metadata": {},
     "output_type": "execute_result"
    }
   ],
   "source": [
    "\"   Fish tacos   \".strip()"
   ]
  },
  {
   "cell_type": "markdown",
   "id": "027ded02",
   "metadata": {
    "editable": true,
    "slideshow": {
     "slide_type": "subslide"
    },
    "tags": []
   },
   "source": [
    "By default, `.strip(...)` removes leading/trailing whitespace, but you can also tell it to remove different/other characters:"
   ]
  },
  {
   "cell_type": "code",
   "execution_count": 4,
   "id": "b1e5a713",
   "metadata": {
    "editable": true,
    "slideshow": {
     "slide_type": "-"
    },
    "tags": []
   },
   "outputs": [
    {
     "data": {
      "text/plain": [
       "'Fish tacos'"
      ]
     },
     "execution_count": 4,
     "metadata": {},
     "output_type": "execute_result"
    }
   ],
   "source": [
    "\"///Fish tacos///\".strip(\"/\")"
   ]
  },
  {
   "cell_type": "markdown",
   "id": "3339e72b-f4bb-4564-bce8-f178bc6e6b08",
   "metadata": {
    "editable": true,
    "slideshow": {
     "slide_type": ""
    },
    "tags": []
   },
   "source": [
    "It will only, however, strip *consecutive* characters:"
   ]
  },
  {
   "cell_type": "code",
   "execution_count": 5,
   "id": "b29e2fac",
   "metadata": {
    "editable": true,
    "slideshow": {
     "slide_type": "-"
    },
    "tags": []
   },
   "outputs": [
    {
     "data": {
      "text/plain": [
       "' / /Fish tacos/ / '"
      ]
     },
     "execution_count": 5,
     "metadata": {},
     "output_type": "execute_result"
    }
   ],
   "source": [
    "\"/ / /Fish tacos/ / /\".strip(\"/\")"
   ]
  },
  {
   "cell_type": "code",
   "execution_count": 6,
   "id": "e038707b",
   "metadata": {
    "editable": true,
    "slideshow": {
     "slide_type": "-"
    },
    "tags": []
   },
   "outputs": [
    {
     "data": {
      "text/plain": [
       "'Fish tacos'"
      ]
     },
     "execution_count": 6,
     "metadata": {},
     "output_type": "execute_result"
    }
   ],
   "source": [
    "\"/ / /Fish tacos/ / /\".strip(\"/ \")"
   ]
  },
  {
   "cell_type": "markdown",
   "id": "1d1b7501",
   "metadata": {
    "editable": true,
    "slideshow": {
     "slide_type": "subslide"
    },
    "tags": []
   },
   "source": [
    "__Problem__: Extra/junk characters elsewhere\n",
    "\n",
    "__Examples__:\n",
    "    \n",
    "- `1,000`\n",
    "- `I_want_spaces_instead`\n",
    "- `jsvine AT gmail DOT com`\n",
    "\n",
    "__Solution__: `.replace(...)`"
   ]
  },
  {
   "cell_type": "code",
   "execution_count": 7,
   "id": "cfd9ba1f",
   "metadata": {
    "editable": true,
    "slideshow": {
     "slide_type": "subslide"
    },
    "tags": [
     "raises-exception"
    ]
   },
   "outputs": [
    {
     "ename": "ValueError",
     "evalue": "invalid literal for int() with base 10: '1,000'",
     "output_type": "error",
     "traceback": [
      "\u001b[0;31m---------------------------------------------------------------------------\u001b[0m",
      "\u001b[0;31mValueError\u001b[0m                                Traceback (most recent call last)",
      "Cell \u001b[0;32mIn[7], line 1\u001b[0m\n\u001b[0;32m----> 1\u001b[0m \u001b[38;5;28;43mint\u001b[39;49m\u001b[43m(\u001b[49m\u001b[38;5;124;43m\"\u001b[39;49m\u001b[38;5;124;43m1,000\u001b[39;49m\u001b[38;5;124;43m\"\u001b[39;49m\u001b[43m)\u001b[49m\n",
      "\u001b[0;31mValueError\u001b[0m: invalid literal for int() with base 10: '1,000'"
     ]
    }
   ],
   "source": [
    "int(\"1,000\")"
   ]
  },
  {
   "cell_type": "code",
   "execution_count": 8,
   "id": "e2b27be5",
   "metadata": {
    "editable": true,
    "slideshow": {
     "slide_type": "fragment"
    },
    "tags": []
   },
   "outputs": [
    {
     "data": {
      "text/plain": [
       "'1000'"
      ]
     },
     "execution_count": 8,
     "metadata": {},
     "output_type": "execute_result"
    }
   ],
   "source": [
    "\"1,000\".replace(\",\", \"\")"
   ]
  },
  {
   "cell_type": "code",
   "execution_count": 9,
   "id": "543d005a",
   "metadata": {
    "editable": true,
    "slideshow": {
     "slide_type": "fragment"
    },
    "tags": []
   },
   "outputs": [
    {
     "data": {
      "text/plain": [
       "1000"
      ]
     },
     "execution_count": 9,
     "metadata": {},
     "output_type": "execute_result"
    }
   ],
   "source": [
    "int(\"1,000\".replace(\",\", \"\"))"
   ]
  },
  {
   "cell_type": "code",
   "execution_count": 10,
   "id": "e8b69b1d",
   "metadata": {
    "editable": true,
    "slideshow": {
     "slide_type": "subslide"
    },
    "tags": []
   },
   "outputs": [
    {
     "data": {
      "text/plain": [
       "'I want spaces instead'"
      ]
     },
     "execution_count": 10,
     "metadata": {},
     "output_type": "execute_result"
    }
   ],
   "source": [
    "\"I_want_spaces_instead\".replace(\"_\", \" \")"
   ]
  },
  {
   "cell_type": "markdown",
   "id": "a0512790-a79c-4475-a537-07118ec31ca4",
   "metadata": {
    "editable": true,
    "slideshow": {
     "slide_type": ""
    },
    "tags": []
   },
   "source": [
    "As with most string operations, you can chain them together:"
   ]
  },
  {
   "cell_type": "code",
   "execution_count": 11,
   "id": "f7a0d0f9",
   "metadata": {
    "editable": true,
    "slideshow": {
     "slide_type": "-"
    },
    "tags": []
   },
   "outputs": [
    {
     "data": {
      "text/plain": [
       "'jsvine@gmail.com'"
      ]
     },
     "execution_count": 11,
     "metadata": {},
     "output_type": "execute_result"
    }
   ],
   "source": [
    "\"jsvine AT gmail DOT com\".replace(\" AT \", \"@\").replace(\" DOT \", \".\")"
   ]
  },
  {
   "cell_type": "markdown",
   "id": "66a9f74c-61b0-404f-baa6-f6fe28b26053",
   "metadata": {
    "editable": true,
    "slideshow": {
     "slide_type": ""
    },
    "tags": []
   },
   "source": [
    "Chaining can be easier to follow by wrapping the statement in parens and putting each call on a new line:"
   ]
  },
  {
   "cell_type": "code",
   "execution_count": 12,
   "id": "a2c4893f-a4fc-471a-8417-55cf567de91d",
   "metadata": {
    "editable": true,
    "slideshow": {
     "slide_type": "-"
    },
    "tags": []
   },
   "outputs": [
    {
     "data": {
      "text/plain": [
       "'jsvine@gmail.com'"
      ]
     },
     "execution_count": 12,
     "metadata": {},
     "output_type": "execute_result"
    }
   ],
   "source": [
    "(\n",
    "    \"jsvine AT gmail DOT com\"\n",
    "    .replace(\" AT \", \"@\")\n",
    "    .replace(\" DOT \", \".\")\n",
    ")"
   ]
  },
  {
   "cell_type": "markdown",
   "id": "e3ba698d",
   "metadata": {
    "editable": true,
    "slideshow": {
     "slide_type": "subslide"
    },
    "tags": []
   },
   "source": [
    "__Problem__: Inconsistent upper/lower-casing\n",
    "\n",
    "__Examples__:\n",
    "\n",
    "- `Lede Program`\n",
    "- `LEDE PROGRAM`\n",
    "- `LeDe PROgram`\n",
    "\n",
    "__Solution__: `.upper()`/`.lower()`/`.title()`"
   ]
  },
  {
   "cell_type": "code",
   "execution_count": 13,
   "id": "8a045e36",
   "metadata": {
    "editable": true,
    "slideshow": {
     "slide_type": "subslide"
    },
    "tags": [
     "raises-exception"
    ]
   },
   "outputs": [
    {
     "data": {
      "text/plain": [
       "'LEDE PROGRAM'"
      ]
     },
     "execution_count": 13,
     "metadata": {},
     "output_type": "execute_result"
    }
   ],
   "source": [
    "\"LeDe PROgram\".upper()"
   ]
  },
  {
   "cell_type": "code",
   "execution_count": 14,
   "id": "f9cb44bc",
   "metadata": {
    "editable": true,
    "slideshow": {
     "slide_type": "-"
    },
    "tags": [
     "raises-exception"
    ]
   },
   "outputs": [
    {
     "data": {
      "text/plain": [
       "'lede program'"
      ]
     },
     "execution_count": 14,
     "metadata": {},
     "output_type": "execute_result"
    }
   ],
   "source": [
    "\"LeDe PROgram\".lower()"
   ]
  },
  {
   "cell_type": "code",
   "execution_count": 15,
   "id": "a885dc30",
   "metadata": {
    "editable": true,
    "slideshow": {
     "slide_type": "-"
    },
    "tags": [
     "raises-exception"
    ]
   },
   "outputs": [
    {
     "data": {
      "text/plain": [
       "'Lede Program'"
      ]
     },
     "execution_count": 15,
     "metadata": {},
     "output_type": "execute_result"
    }
   ],
   "source": [
    "\"LeDe PROgram\".title()"
   ]
  },
  {
   "cell_type": "markdown",
   "id": "470630c1",
   "metadata": {
    "editable": true,
    "slideshow": {
     "slide_type": "subslide"
    },
    "tags": []
   },
   "source": [
    "__Problem__: One string contains __multiple__ chunks of information\n",
    "\n",
    "__Examples__:\n",
    "\n",
    "- `10 kgs`\n",
    "- `Smith, Jane`\n",
    "- `05/31/2023`\n",
    "\n",
    "__Solution__: `.split(...)`"
   ]
  },
  {
   "cell_type": "markdown",
   "id": "c4596fd0-7092-455b-839b-b5802fbe54ad",
   "metadata": {
    "editable": true,
    "slideshow": {
     "slide_type": "subslide"
    },
    "tags": [
     "raises-exception"
    ]
   },
   "source": [
    "This method returns a list:"
   ]
  },
  {
   "cell_type": "code",
   "execution_count": 16,
   "id": "892ae822-4397-41eb-bfb5-48865f1ebb6d",
   "metadata": {
    "editable": true,
    "slideshow": {
     "slide_type": ""
    },
    "tags": []
   },
   "outputs": [
    {
     "data": {
      "text/plain": [
       "['10', 'kgs']"
      ]
     },
     "execution_count": 16,
     "metadata": {},
     "output_type": "execute_result"
    }
   ],
   "source": [
    "\"10 kgs\".split(\" \")"
   ]
  },
  {
   "cell_type": "markdown",
   "id": "9c4c59c0-8a6a-4ae9-92dc-67e5acec0ffd",
   "metadata": {
    "editable": true,
    "slideshow": {
     "slide_type": ""
    },
    "tags": []
   },
   "source": [
    "You can work with it like any list, including by using square-bracket notation to get any item:"
   ]
  },
  {
   "cell_type": "code",
   "execution_count": 17,
   "id": "dc6777c0",
   "metadata": {
    "editable": true,
    "slideshow": {
     "slide_type": "-"
    },
    "tags": []
   },
   "outputs": [
    {
     "data": {
      "text/plain": [
       "'10'"
      ]
     },
     "execution_count": 17,
     "metadata": {},
     "output_type": "execute_result"
    }
   ],
   "source": [
    "\"10 kgs\".split(\" \")[0]"
   ]
  },
  {
   "cell_type": "markdown",
   "id": "a26c1f2a-2a20-4845-bd77-e915b09ad7ad",
   "metadata": {
    "editable": true,
    "slideshow": {
     "slide_type": "subslide"
    },
    "tags": []
   },
   "source": [
    "Likewise, you can \"unpack\" each element into its own variable:"
   ]
  },
  {
   "cell_type": "code",
   "execution_count": 18,
   "id": "5ac92db2",
   "metadata": {
    "editable": true,
    "slideshow": {
     "slide_type": ""
    },
    "tags": []
   },
   "outputs": [
    {
     "data": {
      "text/plain": [
       "['Smith', 'Jane']"
      ]
     },
     "execution_count": 18,
     "metadata": {},
     "output_type": "execute_result"
    }
   ],
   "source": [
    "\"Smith, Jane\".split(\", \")"
   ]
  },
  {
   "cell_type": "code",
   "execution_count": 19,
   "id": "ec05c0c7",
   "metadata": {
    "editable": true,
    "slideshow": {
     "slide_type": "-"
    },
    "tags": []
   },
   "outputs": [
    {
     "name": "stdout",
     "output_type": "stream",
     "text": [
      "Jane Smith\n"
     ]
    }
   ],
   "source": [
    "last, first = \"Smith, Jane\".split(\", \")\n",
    "print(f\"{first} {last}\")"
   ]
  },
  {
   "cell_type": "code",
   "execution_count": 20,
   "id": "3296ed8e",
   "metadata": {
    "editable": true,
    "slideshow": {
     "slide_type": "-"
    },
    "tags": []
   },
   "outputs": [
    {
     "name": "stdout",
     "output_type": "stream",
     "text": [
      "2023-05-31\n"
     ]
    }
   ],
   "source": [
    "m, d, y = \"05/31/2023\".split(\"/\")\n",
    "print(\"-\".join([y, m, d]))"
   ]
  },
  {
   "cell_type": "markdown",
   "id": "1ce0b05e",
   "metadata": {
    "editable": true,
    "slideshow": {
     "slide_type": "slide"
    },
    "tags": []
   },
   "source": [
    "## Exercise\n",
    "\n",
    "Write code that calculates the total amount of money expressed in this list:"
   ]
  },
  {
   "cell_type": "code",
   "execution_count": 21,
   "id": "f7517d1c",
   "metadata": {
    "editable": true,
    "slideshow": {
     "slide_type": "-"
    },
    "tags": []
   },
   "outputs": [],
   "source": [
    "amounts = [\n",
    "    \"   1,000.31   doLLaRs   \",\n",
    "    \"500 Dollars  \",\n",
    "    \"25.03 USD\",\n",
    "    \"$10\"\n",
    "]"
   ]
  },
  {
   "cell_type": "markdown",
   "id": "1087d565-6f79-494d-be50-0b98732a58d9",
   "metadata": {
    "editable": true,
    "slideshow": {
     "slide_type": "fragment"
    },
    "tags": []
   },
   "source": [
    "My solution:"
   ]
  },
  {
   "cell_type": "code",
   "execution_count": 22,
   "id": "8abe6f22",
   "metadata": {
    "editable": true,
    "slideshow": {
     "slide_type": "-"
    },
    "tags": []
   },
   "outputs": [
    {
     "name": "stdout",
     "output_type": "stream",
     "text": [
      "Original:     1,000.31   doLLaRs   \n",
      "Converted: 1000.31\n",
      "---\n",
      "Original:  500 Dollars  \n",
      "Converted: 500.0\n",
      "---\n",
      "Original:  25.03 USD\n",
      "Converted: 25.03\n",
      "---\n",
      "Original:  $10\n",
      "Converted: 10.0\n",
      "---\n"
     ]
    }
   ],
   "source": [
    "def clean_amount(amt):\n",
    "    amt = amt.strip(\"$ \")\n",
    "    amt = amt.replace(\",\", \"\")\n",
    "    amt = amt.split(\" \")[0]\n",
    "    return float(amt)\n",
    "\n",
    "for amt in amounts:\n",
    "    print(\"Original: \", amt)\n",
    "    print(\"Converted:\", clean_amount(amt))\n",
    "    print(\"---\")"
   ]
  },
  {
   "cell_type": "code",
   "execution_count": 23,
   "id": "04b91ffb-9e16-4ae3-839e-25b45ee0e59f",
   "metadata": {
    "editable": true,
    "slideshow": {
     "slide_type": ""
    },
    "tags": []
   },
   "outputs": [
    {
     "data": {
      "text/plain": [
       "1535.34"
      ]
     },
     "execution_count": 23,
     "metadata": {},
     "output_type": "execute_result"
    }
   ],
   "source": [
    "sum(clean_amount(amt) for amt in amounts)"
   ]
  },
  {
   "cell_type": "markdown",
   "id": "051cb6b7",
   "metadata": {
    "editable": true,
    "slideshow": {
     "slide_type": "subslide"
    },
    "tags": []
   },
   "source": [
    "## Exercise\n",
    "\n",
    "Now let's try to do the same, but with this new wrinkle:"
   ]
  },
  {
   "cell_type": "code",
   "execution_count": 24,
   "id": "d6a48420",
   "metadata": {
    "editable": true,
    "slideshow": {
     "slide_type": "-"
    },
    "tags": []
   },
   "outputs": [],
   "source": [
    "amounts = [\n",
    "    \"   1,000.31   doLLaRs   \",\n",
    "    \"54 cents  \",\n",
    "    \"33 CENTS\",\n",
    "    \"$10\"\n",
    "]"
   ]
  },
  {
   "cell_type": "markdown",
   "id": "a2f594f2-ad60-41c7-aa94-69af69304407",
   "metadata": {
    "editable": true,
    "slideshow": {
     "slide_type": "fragment"
    },
    "tags": []
   },
   "source": [
    "My solution:"
   ]
  },
  {
   "cell_type": "code",
   "execution_count": 27,
   "id": "718ef2be",
   "metadata": {
    "editable": true,
    "slideshow": {
     "slide_type": ""
    },
    "tags": []
   },
   "outputs": [],
   "source": [
    "def clean_amount(amt):\n",
    "    if \"$\" in amt or \"dollar\" in amt.lower():\n",
    "        conversion = 1\n",
    "    elif \"cent\" in amt.lower():\n",
    "        conversion = 0.01\n",
    "    else:\n",
    "        raise ValueError(f\"Cannot determine unit for {amt}\")\n",
    "        \n",
    "    amt = amt.strip(\"$ \")\n",
    "    amt = amt.replace(\",\", \"\")\n",
    "    amt = amt.split(\" \")[0]\n",
    "    return float(amt) * conversion"
   ]
  },
  {
   "cell_type": "code",
   "execution_count": 28,
   "id": "e186a81e-cc23-42d2-9b7d-033755f9e29b",
   "metadata": {
    "editable": true,
    "slideshow": {
     "slide_type": ""
    },
    "tags": []
   },
   "outputs": [
    {
     "data": {
      "text/plain": [
       "0.54"
      ]
     },
     "execution_count": 28,
     "metadata": {},
     "output_type": "execute_result"
    }
   ],
   "source": [
    "clean_amount(\"54 cents  \")"
   ]
  },
  {
   "cell_type": "code",
   "execution_count": 29,
   "id": "da21f447-e48f-49f2-b3b7-bcab24c8a666",
   "metadata": {
    "editable": true,
    "slideshow": {
     "slide_type": ""
    },
    "tags": []
   },
   "outputs": [
    {
     "data": {
      "text/plain": [
       "54.0"
      ]
     },
     "execution_count": 29,
     "metadata": {},
     "output_type": "execute_result"
    }
   ],
   "source": [
    "clean_amount(\"54 dollars\")"
   ]
  },
  {
   "cell_type": "code",
   "execution_count": 31,
   "id": "f32fa823-15f9-42aa-9699-61bfdf62c253",
   "metadata": {
    "editable": true,
    "slideshow": {
     "slide_type": ""
    },
    "tags": []
   },
   "outputs": [
    {
     "data": {
      "text/plain": [
       "54.0"
      ]
     },
     "execution_count": 31,
     "metadata": {},
     "output_type": "execute_result"
    }
   ],
   "source": [
    "clean_amount(\"$54.00\")"
   ]
  },
  {
   "cell_type": "code",
   "execution_count": 34,
   "id": "4d91a450-d8f3-4234-b752-5cd0657db4ff",
   "metadata": {
    "editable": true,
    "slideshow": {
     "slide_type": ""
    },
    "tags": []
   },
   "outputs": [
    {
     "ename": "ValueError",
     "evalue": "Cannot determine unit for 54 euro",
     "output_type": "error",
     "traceback": [
      "\u001b[0;31m---------------------------------------------------------------------------\u001b[0m",
      "\u001b[0;31mValueError\u001b[0m                                Traceback (most recent call last)",
      "Cell \u001b[0;32mIn[34], line 1\u001b[0m\n\u001b[0;32m----> 1\u001b[0m \u001b[43mclean_amount\u001b[49m\u001b[43m(\u001b[49m\u001b[38;5;124;43m\"\u001b[39;49m\u001b[38;5;124;43m54 euro\u001b[39;49m\u001b[38;5;124;43m\"\u001b[39;49m\u001b[43m)\u001b[49m\n",
      "Cell \u001b[0;32mIn[27], line 7\u001b[0m, in \u001b[0;36mclean_amount\u001b[0;34m(amt)\u001b[0m\n\u001b[1;32m      5\u001b[0m     conversion \u001b[38;5;241m=\u001b[39m \u001b[38;5;241m0.01\u001b[39m\n\u001b[1;32m      6\u001b[0m \u001b[38;5;28;01melse\u001b[39;00m:\n\u001b[0;32m----> 7\u001b[0m     \u001b[38;5;28;01mraise\u001b[39;00m \u001b[38;5;167;01mValueError\u001b[39;00m(\u001b[38;5;124mf\u001b[39m\u001b[38;5;124m\"\u001b[39m\u001b[38;5;124mCannot determine unit for \u001b[39m\u001b[38;5;132;01m{\u001b[39;00mamt\u001b[38;5;132;01m}\u001b[39;00m\u001b[38;5;124m\"\u001b[39m)\n\u001b[1;32m      9\u001b[0m amt \u001b[38;5;241m=\u001b[39m amt\u001b[38;5;241m.\u001b[39mstrip(\u001b[38;5;124m\"\u001b[39m\u001b[38;5;124m$ \u001b[39m\u001b[38;5;124m\"\u001b[39m)\n\u001b[1;32m     10\u001b[0m amt \u001b[38;5;241m=\u001b[39m amt\u001b[38;5;241m.\u001b[39mreplace(\u001b[38;5;124m\"\u001b[39m\u001b[38;5;124m,\u001b[39m\u001b[38;5;124m\"\u001b[39m, \u001b[38;5;124m\"\u001b[39m\u001b[38;5;124m\"\u001b[39m)\n",
      "\u001b[0;31mValueError\u001b[0m: Cannot determine unit for 54 euro"
     ]
    }
   ],
   "source": [
    "clean_amount(\"54 euro\")"
   ]
  },
  {
   "cell_type": "code",
   "execution_count": 33,
   "id": "737216cc-320a-4584-addc-2a60f445efa2",
   "metadata": {
    "editable": true,
    "slideshow": {
     "slide_type": ""
    },
    "tags": []
   },
   "outputs": [
    {
     "data": {
      "text/plain": [
       "1011.18"
      ]
     },
     "execution_count": 33,
     "metadata": {},
     "output_type": "execute_result"
    }
   ],
   "source": [
    "sum(clean_amount(a) for a in amounts)"
   ]
  },
  {
   "cell_type": "markdown",
   "id": "5dd54223",
   "metadata": {
    "editable": true,
    "slideshow": {
     "slide_type": "skip"
    },
    "tags": []
   },
   "source": [
    "---\n",
    "\n",
    "---\n",
    "\n",
    "---"
   ]
  }
 ],
 "metadata": {
  "celltoolbar": "Slideshow",
  "kernelspec": {
   "display_name": "Python 3 (ipykernel)",
   "language": "python",
   "name": "python3"
  },
  "language_info": {
   "codemirror_mode": {
    "name": "ipython",
    "version": 3
   },
   "file_extension": ".py",
   "mimetype": "text/x-python",
   "name": "python",
   "nbconvert_exporter": "python",
   "pygments_lexer": "ipython3",
   "version": "3.12.4"
  }
 },
 "nbformat": 4,
 "nbformat_minor": 5
}
