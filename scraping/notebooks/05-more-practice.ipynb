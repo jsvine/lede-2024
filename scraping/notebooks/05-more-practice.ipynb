{
 "cells": [
  {
   "cell_type": "markdown",
   "id": "479f1956-0d3e-4f99-9bdb-890cdeb53989",
   "metadata": {
    "slideshow": {
     "slide_type": "slide"
    }
   },
   "source": [
    "# 🌐 Scraping, Part 5: More practice\n",
    "\n",
    "*Getting the hang of nested elements.*"
   ]
  },
  {
   "cell_type": "markdown",
   "id": "bfe53f09-6e0c-4046-81f2-0b953d863acf",
   "metadata": {
    "slideshow": {
     "slide_type": "slide"
    }
   },
   "source": [
    "## Let's try something a just little more complicated\n",
    "\n",
    "Let's examine the posts on Beautiful Public Data's homepage: https://www.beautifulpublicdata.com/\n",
    "\n",
    "First, let's pop open the element inspector. Let's get a sense of how the page is structured, and what information we might want to extract."
   ]
  },
  {
   "cell_type": "markdown",
   "id": "dc4defe0-abec-49f4-9d08-59920b4e14eb",
   "metadata": {
    "slideshow": {
     "slide_type": "subslide"
    }
   },
   "source": [
    "### __Exercise__: What are some CSS selectors, of varying specificity, we could use to select all of those posts?"
   ]
  },
  {
   "cell_type": "markdown",
   "id": "f67f00fa-8ceb-49ac-bd0d-55711c29e9b7",
   "metadata": {
    "slideshow": {
     "slide_type": "fragment"
    }
   },
   "source": [
    "`article` is *probably* enough. But you could also write:\n",
    "\n",
    "- `.post`\n",
    "- `main article`\n",
    "- `.posts article.post`\n",
    "- ... or many other permutations!"
   ]
  },
  {
   "cell_type": "markdown",
   "id": "b5e04e75-268a-4f51-b1dc-b3fd6e511b2c",
   "metadata": {
    "slideshow": {
     "slide_type": "subslide"
    }
   },
   "source": [
    "Let's try these out. First, we'll load the HTML and convert it to a Python-accessible DOM:"
   ]
  },
  {
   "cell_type": "code",
   "execution_count": 1,
   "id": "e9cc5a53",
   "metadata": {
    "execution": {
     "iopub.execute_input": "2023-06-29T20:03:31.179105Z",
     "iopub.status.busy": "2023-06-29T20:03:31.178690Z",
     "iopub.status.idle": "2023-06-29T20:03:31.271696Z",
     "shell.execute_reply": "2023-06-29T20:03:31.271391Z"
    },
    "slideshow": {
     "slide_type": "skip"
    }
   },
   "outputs": [],
   "source": [
    "import requests\n",
    "from bs4 import BeautifulSoup"
   ]
  },
  {
   "cell_type": "code",
   "execution_count": 2,
   "id": "efba49e7-335d-4a78-ac9a-6f8e0d356d69",
   "metadata": {
    "execution": {
     "iopub.execute_input": "2023-06-29T20:03:31.273365Z",
     "iopub.status.busy": "2023-06-29T20:03:31.273251Z",
     "iopub.status.idle": "2023-06-29T20:03:32.132332Z",
     "shell.execute_reply": "2023-06-29T20:03:32.131780Z"
    },
    "slideshow": {
     "slide_type": "-"
    }
   },
   "outputs": [],
   "source": [
    "html = requests.get(\"https://www.beautifulpublicdata.com/\").text\n",
    "soup = BeautifulSoup(html)"
   ]
  },
  {
   "cell_type": "markdown",
   "id": "81caf947",
   "metadata": {
    "slideshow": {
     "slide_type": "subslide"
    }
   },
   "source": [
    "Then, let's try using `.select(...)` and `len(...)` to count the number of matching elements:"
   ]
  },
  {
   "cell_type": "code",
   "execution_count": 3,
   "id": "becfc173",
   "metadata": {
    "slideshow": {
     "slide_type": "-"
    }
   },
   "outputs": [
    {
     "data": {
      "text/plain": [
       "25"
      ]
     },
     "execution_count": 3,
     "metadata": {},
     "output_type": "execute_result"
    }
   ],
   "source": [
    "len(soup.select(\"article\"))"
   ]
  },
  {
   "cell_type": "code",
   "execution_count": 4,
   "id": "eb693f87",
   "metadata": {
    "slideshow": {
     "slide_type": "-"
    }
   },
   "outputs": [
    {
     "data": {
      "text/plain": [
       "25"
      ]
     },
     "execution_count": 4,
     "metadata": {},
     "output_type": "execute_result"
    }
   ],
   "source": [
    "len(soup.select(\"main article\"))"
   ]
  },
  {
   "cell_type": "code",
   "execution_count": 5,
   "id": "cf8d652a",
   "metadata": {
    "slideshow": {
     "slide_type": "-"
    }
   },
   "outputs": [
    {
     "data": {
      "text/plain": [
       "25"
      ]
     },
     "execution_count": 5,
     "metadata": {},
     "output_type": "execute_result"
    }
   ],
   "source": [
    "len(soup.select(\".post\"))"
   ]
  },
  {
   "cell_type": "markdown",
   "id": "466312cd",
   "metadata": {
    "slideshow": {
     "slide_type": "-"
    }
   },
   "source": [
    "Finally, let's assign the list of posts to a variable:"
   ]
  },
  {
   "cell_type": "code",
   "execution_count": 6,
   "id": "99b00f38",
   "metadata": {
    "slideshow": {
     "slide_type": "-"
    }
   },
   "outputs": [],
   "source": [
    "post_elements = soup.select(\"article\")"
   ]
  },
  {
   "cell_type": "markdown",
   "id": "9e0f0a2f-77b2-496b-a5ff-f1875f1d4113",
   "metadata": {
    "slideshow": {
     "slide_type": "subslide"
    }
   },
   "source": [
    "Next, we'll let's grab the headline for each post. \n",
    "\n",
    "## Q: How would you do this?"
   ]
  },
  {
   "cell_type": "code",
   "execution_count": 7,
   "id": "267056f1-5962-4164-86f6-8f92b841f73e",
   "metadata": {
    "execution": {
     "iopub.execute_input": "2023-06-29T20:03:32.140440Z",
     "iopub.status.busy": "2023-06-29T20:03:32.140252Z",
     "iopub.status.idle": "2023-06-29T20:03:32.156836Z",
     "shell.execute_reply": "2023-06-29T20:03:32.156473Z"
    },
    "slideshow": {
     "slide_type": "fragment"
    }
   },
   "outputs": [
    {
     "name": "stdout",
     "output_type": "stream",
     "text": [
      "\n",
      "                    Aerial Glacier Photographs\n",
      "                \n",
      "\n",
      "                    The Naughty Words the FAA Removed From the Sky\n",
      "                \n",
      "\n",
      "                    Trademark Design Codes\n",
      "                \n",
      "\n",
      "                    FAA Aviation Maps\n",
      "                \n",
      "\n",
      "                    Government Comic Books\n",
      "                \n",
      "\n",
      "                    Wild Horses\n",
      "                \n",
      "\n",
      "                    The Army and Navy Style Guides\n",
      "                \n",
      "\n",
      "                    Nuclear Weapon Test Films\n",
      "                \n",
      "\n",
      "                    All of the 8,331 License Plates in America\n",
      "                \n",
      "\n",
      "                    Mapping Volcano Eruptions With Drones\n",
      "                \n",
      "\n",
      "                    Here’s All the Rocks We Hauled Back From the Moon\n",
      "                \n",
      "\n",
      "                    1,000 Photos of Dolphin Fins\n",
      "                \n",
      "\n",
      "                    The Mirror Fusion Test Facility\n",
      "                \n",
      "\n",
      "                    Special Database 18: 3,248 Mugshots Used for Training Image Recognition Systems\n",
      "                \n",
      "\n",
      "                    Pilot Manual for a 1940's U.S. Navy Blimp\n",
      "                \n",
      "\n",
      "                    The United States Frequency Allocation Chart\n",
      "                \n",
      "\n",
      "                    The Style Guide for America’s Highways: The Manual on Uniform Traffic Control Devices\n",
      "                \n",
      "\n",
      "                    Mapping the Sea Floor\n",
      "                \n",
      "\n",
      "                    Vehicle Crash Test Films from the 1970's and 1980s\n",
      "                \n",
      "\n",
      "                    Visualizing Rivers and Floodplains with USGS Data\n",
      "                \n",
      "\n",
      "                    A Rover's First 590 Days* on Mars\n",
      "                \n",
      "\n",
      "                    Utah Highway LiDAR Scans\n",
      "                \n",
      "\n",
      "                    The GOES-16 Weather Satellite\n",
      "                \n",
      "\n",
      "                    The Pillbox Database\n",
      "                \n",
      "\n",
      "                    Photologging Vans\n",
      "                \n"
     ]
    }
   ],
   "source": [
    "for el in post_elements:\n",
    "    hed = el.select(\"h2\")[0]\n",
    "    print(hed.text)"
   ]
  },
  {
   "cell_type": "markdown",
   "id": "99f2550f-b7cb-4801-b47f-29ad8e81e873",
   "metadata": {
    "slideshow": {
     "slide_type": "subslide"
    }
   },
   "source": [
    "Let's use the `.strip()` method on each text string to strip out the extra whitespace:"
   ]
  },
  {
   "cell_type": "code",
   "execution_count": 8,
   "id": "7dcf4fee-e651-4e72-bd6d-ddbaf16240ec",
   "metadata": {
    "execution": {
     "iopub.execute_input": "2023-06-29T20:03:32.158944Z",
     "iopub.status.busy": "2023-06-29T20:03:32.158799Z",
     "iopub.status.idle": "2023-06-29T20:03:32.171211Z",
     "shell.execute_reply": "2023-06-29T20:03:32.170912Z"
    },
    "slideshow": {
     "slide_type": "-"
    }
   },
   "outputs": [
    {
     "name": "stdout",
     "output_type": "stream",
     "text": [
      "Aerial Glacier Photographs\n",
      "The Naughty Words the FAA Removed From the Sky\n",
      "Trademark Design Codes\n",
      "FAA Aviation Maps\n",
      "Government Comic Books\n",
      "Wild Horses\n",
      "The Army and Navy Style Guides\n",
      "Nuclear Weapon Test Films\n",
      "All of the 8,331 License Plates in America\n",
      "Mapping Volcano Eruptions With Drones\n",
      "Here’s All the Rocks We Hauled Back From the Moon\n",
      "1,000 Photos of Dolphin Fins\n",
      "The Mirror Fusion Test Facility\n",
      "Special Database 18: 3,248 Mugshots Used for Training Image Recognition Systems\n",
      "Pilot Manual for a 1940's U.S. Navy Blimp\n",
      "The United States Frequency Allocation Chart\n",
      "The Style Guide for America’s Highways: The Manual on Uniform Traffic Control Devices\n",
      "Mapping the Sea Floor\n",
      "Vehicle Crash Test Films from the 1970's and 1980s\n",
      "Visualizing Rivers and Floodplains with USGS Data\n",
      "A Rover's First 590 Days* on Mars\n",
      "Utah Highway LiDAR Scans\n",
      "The GOES-16 Weather Satellite\n",
      "The Pillbox Database\n",
      "Photologging Vans\n"
     ]
    }
   ],
   "source": [
    "for el in post_elements:\n",
    "    hed = el.select(\"h2\")[0]\n",
    "    print(hed.text.strip())"
   ]
  },
  {
   "cell_type": "markdown",
   "id": "1da3215d",
   "metadata": {
    "slideshow": {
     "slide_type": "subslide"
    }
   },
   "source": [
    "## Q: How would you get the element representing the *first* post on the page?"
   ]
  },
  {
   "cell_type": "code",
   "execution_count": 9,
   "id": "e9614f52",
   "metadata": {
    "slideshow": {
     "slide_type": "fragment"
    }
   },
   "outputs": [
    {
     "data": {
      "text/plain": [
       "<article class=\"post-card post tag-usgs tag-nsf tag-glaciers tag-nps featured post-card-large\">\n",
       "<a class=\"post-card-image-link\" href=\"/aerial-glacier-photographs/\">\n",
       "<img alt=\"Aerial Glacier Photographs\" class=\"post-card-image\" loading=\"lazy\" sizes=\"(max-width: 1000px) 400px, 800px\" src=\"/content/images/size/w600/2024/06/quilt_4-1-1.png\" srcset=\"/content/images/size/w300/2024/06/quilt_4-1-1.png 300w,\n",
       "                    /content/images/size/w600/2024/06/quilt_4-1-1.png 600w,\n",
       "                    /content/images/size/w1000/2024/06/quilt_4-1-1.png 1000w,\n",
       "                    /content/images/size/w2000/2024/06/quilt_4-1-1.png 2000w\"/>\n",
       "</a>\n",
       "<div class=\"post-card-content\">\n",
       "<a class=\"post-card-content-link\" href=\"/aerial-glacier-photographs/\">\n",
       "<header class=\"post-card-header\">\n",
       "<div class=\"post-card-tags\">\n",
       "<span class=\"post-card-primary-tag\">USGS</span>\n",
       "<span class=\"post-card-featured\"><svg fill=\"none\" height=\"17\" viewbox=\"0 0 16 17\" width=\"16\" xmlns=\"http://www.w3.org/2000/svg\">\n",
       "<path d=\"M4.49365 4.58752C3.53115 6.03752 2.74365 7.70002 2.74365 9.25002C2.74365 10.6424 3.29678 11.9778 4.28134 12.9623C5.26591 13.9469 6.60127 14.5 7.99365 14.5C9.38604 14.5 10.7214 13.9469 11.706 12.9623C12.6905 11.9778 13.2437 10.6424 13.2437 9.25002C13.2437 6.00002 10.9937 3.50002 9.16865 1.68127L6.99365 6.25002L4.49365 4.58752Z\" stroke=\"currentColor\" stroke-linecap=\"round\" stroke-linejoin=\"round\" stroke-width=\"2\"></path>\n",
       "</svg> Featured</span>\n",
       "</div>\n",
       "<h2 class=\"post-card-title\">\n",
       "                    Aerial Glacier Photographs\n",
       "                </h2>\n",
       "</header>\n",
       "<div class=\"post-card-excerpt\">A collection of 100,000 striking high-resolution aerial photos of glaciers, photographed over 40 years with a 63-pound WW II surveillance camera.</div>\n",
       "</a>\n",
       "<footer class=\"post-card-meta\">\n",
       "<time class=\"post-card-meta-date\" datetime=\"2024-06-18\">Jun 18, 2024</time>\n",
       "<span class=\"post-card-meta-length\">6 min read</span>\n",
       "<script data-ghost-comment-count=\"66647ac305f4d20001ef61ed\" data-ghost-comment-count-autowrap=\"true\" data-ghost-comment-count-class-name=\"\" data-ghost-comment-count-empty=\"\" data-ghost-comment-count-plural=\"comments\" data-ghost-comment-count-singular=\"comment\" data-ghost-comment-count-tag=\"span\">\n",
       "</script>\n",
       "</footer>\n",
       "</div>\n",
       "</article>"
      ]
     },
     "execution_count": 9,
     "metadata": {},
     "output_type": "execute_result"
    }
   ],
   "source": [
    "first_post = post_elements[0]\n",
    "first_post"
   ]
  },
  {
   "cell_type": "markdown",
   "id": "26153982-d12a-4ba4-9581-4e68f6287b17",
   "metadata": {
    "slideshow": {
     "slide_type": "subslide"
    }
   },
   "source": [
    "## Exercise: How would you get main topic of a post?\n",
    "\n",
    "![](../images/bpd-topic-1.png)\n",
    "\n",
    "![](../images/bpd-topic-2.png)\n",
    "\n",
    "![](../images/bpd-topic-3.png)"
   ]
  },
  {
   "cell_type": "code",
   "execution_count": 10,
   "id": "a903ffd8",
   "metadata": {
    "execution": {
     "iopub.execute_input": "2023-06-29T20:03:32.184250Z",
     "iopub.status.busy": "2023-06-29T20:03:32.184135Z",
     "iopub.status.idle": "2023-06-29T20:03:32.186658Z",
     "shell.execute_reply": "2023-06-29T20:03:32.186390Z"
    },
    "slideshow": {
     "slide_type": "subslide"
    }
   },
   "outputs": [
    {
     "data": {
      "text/plain": [
       "[<span class=\"post-card-primary-tag\">USGS</span>]"
      ]
     },
     "execution_count": 10,
     "metadata": {},
     "output_type": "execute_result"
    }
   ],
   "source": [
    "first_post.select(\".post-card-primary-tag\")"
   ]
  },
  {
   "cell_type": "code",
   "execution_count": 11,
   "id": "09f82256",
   "metadata": {
    "execution": {
     "iopub.execute_input": "2023-06-29T20:03:32.184250Z",
     "iopub.status.busy": "2023-06-29T20:03:32.184135Z",
     "iopub.status.idle": "2023-06-29T20:03:32.186658Z",
     "shell.execute_reply": "2023-06-29T20:03:32.186390Z"
    },
    "slideshow": {
     "slide_type": "fragment"
    }
   },
   "outputs": [
    {
     "data": {
      "text/plain": [
       "'USGS'"
      ]
     },
     "execution_count": 11,
     "metadata": {},
     "output_type": "execute_result"
    }
   ],
   "source": [
    "first_post.select(\".post-card-primary-tag\")[0].text"
   ]
  },
  {
   "cell_type": "code",
   "execution_count": 12,
   "id": "06980d14",
   "metadata": {
    "execution": {
     "iopub.execute_input": "2023-06-29T20:03:32.184250Z",
     "iopub.status.busy": "2023-06-29T20:03:32.184135Z",
     "iopub.status.idle": "2023-06-29T20:03:32.186658Z",
     "shell.execute_reply": "2023-06-29T20:03:32.186390Z"
    },
    "slideshow": {
     "slide_type": "-"
    }
   },
   "outputs": [
    {
     "data": {
      "text/plain": [
       "'FAA'"
      ]
     },
     "execution_count": 12,
     "metadata": {},
     "output_type": "execute_result"
    }
   ],
   "source": [
    "# Now with the second element\n",
    "post_elements[1].select(\".post-card-primary-tag\")[0].text"
   ]
  },
  {
   "cell_type": "code",
   "execution_count": 13,
   "id": "c8354444",
   "metadata": {
    "execution": {
     "iopub.execute_input": "2023-06-29T20:03:32.184250Z",
     "iopub.status.busy": "2023-06-29T20:03:32.184135Z",
     "iopub.status.idle": "2023-06-29T20:03:32.186658Z",
     "shell.execute_reply": "2023-06-29T20:03:32.186390Z"
    },
    "slideshow": {
     "slide_type": "-"
    }
   },
   "outputs": [
    {
     "data": {
      "text/plain": [
       "'USPTO'"
      ]
     },
     "execution_count": 13,
     "metadata": {},
     "output_type": "execute_result"
    }
   ],
   "source": [
    "# ... and the third\n",
    "post_elements[2].select(\".post-card-primary-tag\")[0].text"
   ]
  },
  {
   "cell_type": "markdown",
   "id": "9b6dae32",
   "metadata": {
    "slideshow": {
     "slide_type": "subslide"
    }
   },
   "source": [
    "## Exercise: How would you get each post's date?"
   ]
  },
  {
   "cell_type": "code",
   "execution_count": 14,
   "id": "f1ad813b",
   "metadata": {
    "execution": {
     "iopub.execute_input": "2023-06-29T20:03:32.184250Z",
     "iopub.status.busy": "2023-06-29T20:03:32.184135Z",
     "iopub.status.idle": "2023-06-29T20:03:32.186658Z",
     "shell.execute_reply": "2023-06-29T20:03:32.186390Z"
    },
    "slideshow": {
     "slide_type": "fragment"
    }
   },
   "outputs": [
    {
     "data": {
      "text/plain": [
       "'Jun 18, 2024'"
      ]
     },
     "execution_count": 14,
     "metadata": {},
     "output_type": "execute_result"
    }
   ],
   "source": [
    "first_post.select(\"time\")[0].text"
   ]
  },
  {
   "cell_type": "code",
   "execution_count": 15,
   "id": "ceca180f",
   "metadata": {
    "execution": {
     "iopub.execute_input": "2023-06-29T20:03:32.184250Z",
     "iopub.status.busy": "2023-06-29T20:03:32.184135Z",
     "iopub.status.idle": "2023-06-29T20:03:32.186658Z",
     "shell.execute_reply": "2023-06-29T20:03:32.186390Z"
    },
    "slideshow": {
     "slide_type": "fragment"
    }
   },
   "outputs": [
    {
     "data": {
      "text/plain": [
       "'2024-06-18'"
      ]
     },
     "execution_count": 15,
     "metadata": {},
     "output_type": "execute_result"
    }
   ],
   "source": [
    "# Alternatively:\n",
    "first_post.select(\"time\")[0][\"datetime\"]"
   ]
  },
  {
   "cell_type": "markdown",
   "id": "6cdc183a",
   "metadata": {
    "slideshow": {
     "slide_type": "subslide"
    }
   },
   "source": [
    "## Exercise: Put these bits of data in a DataFrame\n",
    "\n",
    "Let's put everything we have so far — title, topic, date — into a `pandas` `DataFrame`."
   ]
  },
  {
   "cell_type": "code",
   "execution_count": 16,
   "id": "2ae375fb",
   "metadata": {
    "execution": {
     "iopub.execute_input": "2023-06-29T20:03:32.192041Z",
     "iopub.status.busy": "2023-06-29T20:03:32.191937Z",
     "iopub.status.idle": "2023-06-29T20:03:32.193600Z",
     "shell.execute_reply": "2023-06-29T20:03:32.193357Z"
    },
    "slideshow": {
     "slide_type": "skip"
    }
   },
   "outputs": [],
   "source": [
    "import pandas as pd"
   ]
  },
  {
   "cell_type": "code",
   "execution_count": 17,
   "id": "7b5accf1-984d-412e-82fe-71c52f7b259a",
   "metadata": {
    "execution": {
     "iopub.execute_input": "2023-06-29T20:03:32.216196Z",
     "iopub.status.busy": "2023-06-29T20:03:32.216117Z",
     "iopub.status.idle": "2023-06-29T20:03:32.240723Z",
     "shell.execute_reply": "2023-06-29T20:03:32.240465Z"
    },
    "slideshow": {
     "slide_type": "fragment"
    }
   },
   "outputs": [
    {
     "data": {
      "text/html": [
       "<div>\n",
       "<style scoped>\n",
       "    .dataframe tbody tr th:only-of-type {\n",
       "        vertical-align: middle;\n",
       "    }\n",
       "\n",
       "    .dataframe tbody tr th {\n",
       "        vertical-align: top;\n",
       "    }\n",
       "\n",
       "    .dataframe thead th {\n",
       "        text-align: right;\n",
       "    }\n",
       "</style>\n",
       "<table border=\"1\" class=\"dataframe\">\n",
       "  <thead>\n",
       "    <tr style=\"text-align: right;\">\n",
       "      <th></th>\n",
       "      <th>hed</th>\n",
       "      <th>topic</th>\n",
       "      <th>date</th>\n",
       "    </tr>\n",
       "  </thead>\n",
       "  <tbody>\n",
       "    <tr>\n",
       "      <th>0</th>\n",
       "      <td>Aerial Glacier Photographs</td>\n",
       "      <td>USGS</td>\n",
       "      <td>2024-06-18</td>\n",
       "    </tr>\n",
       "    <tr>\n",
       "      <th>1</th>\n",
       "      <td>The Naughty Words the FAA Removed From the Sky</td>\n",
       "      <td>FAA</td>\n",
       "      <td>2024-05-28</td>\n",
       "    </tr>\n",
       "    <tr>\n",
       "      <th>2</th>\n",
       "      <td>Trademark Design Codes</td>\n",
       "      <td>USPTO</td>\n",
       "      <td>2024-04-09</td>\n",
       "    </tr>\n",
       "    <tr>\n",
       "      <th>3</th>\n",
       "      <td>FAA Aviation Maps</td>\n",
       "      <td>FAA</td>\n",
       "      <td>2024-01-29</td>\n",
       "    </tr>\n",
       "    <tr>\n",
       "      <th>4</th>\n",
       "      <td>Government Comic Books</td>\n",
       "      <td>ARMY</td>\n",
       "      <td>2023-11-27</td>\n",
       "    </tr>\n",
       "    <tr>\n",
       "      <th>5</th>\n",
       "      <td>Wild Horses</td>\n",
       "      <td>BLM</td>\n",
       "      <td>2023-10-17</td>\n",
       "    </tr>\n",
       "    <tr>\n",
       "      <th>6</th>\n",
       "      <td>The Army and Navy Style Guides</td>\n",
       "      <td>ARMY</td>\n",
       "      <td>2023-10-04</td>\n",
       "    </tr>\n",
       "    <tr>\n",
       "      <th>7</th>\n",
       "      <td>Nuclear Weapon Test Films</td>\n",
       "      <td>LLNL</td>\n",
       "      <td>2023-09-21</td>\n",
       "    </tr>\n",
       "    <tr>\n",
       "      <th>8</th>\n",
       "      <td>All of the 8,331 License Plates in America</td>\n",
       "      <td>Cars</td>\n",
       "      <td>2023-08-21</td>\n",
       "    </tr>\n",
       "    <tr>\n",
       "      <th>9</th>\n",
       "      <td>Mapping Volcano Eruptions With Drones</td>\n",
       "      <td>USGS</td>\n",
       "      <td>2023-05-23</td>\n",
       "    </tr>\n",
       "    <tr>\n",
       "      <th>10</th>\n",
       "      <td>Here’s All the Rocks We Hauled Back From the Moon</td>\n",
       "      <td>NASA</td>\n",
       "      <td>2023-05-02</td>\n",
       "    </tr>\n",
       "    <tr>\n",
       "      <th>11</th>\n",
       "      <td>1,000 Photos of Dolphin Fins</td>\n",
       "      <td>NOAA</td>\n",
       "      <td>2023-04-10</td>\n",
       "    </tr>\n",
       "    <tr>\n",
       "      <th>12</th>\n",
       "      <td>The Mirror Fusion Test Facility</td>\n",
       "      <td>DOE</td>\n",
       "      <td>2023-03-27</td>\n",
       "    </tr>\n",
       "    <tr>\n",
       "      <th>13</th>\n",
       "      <td>Special Database 18: 3,248 Mugshots Used for T...</td>\n",
       "      <td>NIST</td>\n",
       "      <td>2023-03-18</td>\n",
       "    </tr>\n",
       "    <tr>\n",
       "      <th>14</th>\n",
       "      <td>Pilot Manual for a 1940's U.S. Navy Blimp</td>\n",
       "      <td>FAA</td>\n",
       "      <td>2023-02-13</td>\n",
       "    </tr>\n",
       "    <tr>\n",
       "      <th>15</th>\n",
       "      <td>The United States Frequency Allocation Chart</td>\n",
       "      <td>NTIA</td>\n",
       "      <td>2023-02-06</td>\n",
       "    </tr>\n",
       "    <tr>\n",
       "      <th>16</th>\n",
       "      <td>The Style Guide for America’s Highways: The Ma...</td>\n",
       "      <td>FHWA</td>\n",
       "      <td>2023-01-09</td>\n",
       "    </tr>\n",
       "    <tr>\n",
       "      <th>17</th>\n",
       "      <td>Mapping the Sea Floor</td>\n",
       "      <td>USGS</td>\n",
       "      <td>2022-12-29</td>\n",
       "    </tr>\n",
       "    <tr>\n",
       "      <th>18</th>\n",
       "      <td>Vehicle Crash Test Films from the 1970's and 1...</td>\n",
       "      <td>NHTSA</td>\n",
       "      <td>2022-11-26</td>\n",
       "    </tr>\n",
       "    <tr>\n",
       "      <th>19</th>\n",
       "      <td>Visualizing Rivers and Floodplains with USGS Data</td>\n",
       "      <td>LIDAR</td>\n",
       "      <td>2022-11-07</td>\n",
       "    </tr>\n",
       "    <tr>\n",
       "      <th>20</th>\n",
       "      <td>A Rover's First 590 Days* on Mars</td>\n",
       "      <td>Space</td>\n",
       "      <td>2022-10-20</td>\n",
       "    </tr>\n",
       "    <tr>\n",
       "      <th>21</th>\n",
       "      <td>Utah Highway LiDAR Scans</td>\n",
       "      <td>Photologs</td>\n",
       "      <td>2022-10-03</td>\n",
       "    </tr>\n",
       "    <tr>\n",
       "      <th>22</th>\n",
       "      <td>The GOES-16 Weather Satellite</td>\n",
       "      <td>Weather</td>\n",
       "      <td>2022-09-27</td>\n",
       "    </tr>\n",
       "    <tr>\n",
       "      <th>23</th>\n",
       "      <td>The Pillbox Database</td>\n",
       "      <td>Pillbox</td>\n",
       "      <td>2022-09-19</td>\n",
       "    </tr>\n",
       "    <tr>\n",
       "      <th>24</th>\n",
       "      <td>Photologging Vans</td>\n",
       "      <td>Photologs</td>\n",
       "      <td>2022-09-15</td>\n",
       "    </tr>\n",
       "  </tbody>\n",
       "</table>\n",
       "</div>"
      ],
      "text/plain": [
       "                                                  hed      topic        date\n",
       "0                          Aerial Glacier Photographs       USGS  2024-06-18\n",
       "1      The Naughty Words the FAA Removed From the Sky        FAA  2024-05-28\n",
       "2                              Trademark Design Codes      USPTO  2024-04-09\n",
       "3                                   FAA Aviation Maps        FAA  2024-01-29\n",
       "4                              Government Comic Books       ARMY  2023-11-27\n",
       "5                                         Wild Horses        BLM  2023-10-17\n",
       "6                      The Army and Navy Style Guides       ARMY  2023-10-04\n",
       "7                           Nuclear Weapon Test Films       LLNL  2023-09-21\n",
       "8          All of the 8,331 License Plates in America       Cars  2023-08-21\n",
       "9               Mapping Volcano Eruptions With Drones       USGS  2023-05-23\n",
       "10  Here’s All the Rocks We Hauled Back From the Moon       NASA  2023-05-02\n",
       "11                       1,000 Photos of Dolphin Fins       NOAA  2023-04-10\n",
       "12                    The Mirror Fusion Test Facility        DOE  2023-03-27\n",
       "13  Special Database 18: 3,248 Mugshots Used for T...       NIST  2023-03-18\n",
       "14          Pilot Manual for a 1940's U.S. Navy Blimp        FAA  2023-02-13\n",
       "15       The United States Frequency Allocation Chart       NTIA  2023-02-06\n",
       "16  The Style Guide for America’s Highways: The Ma...       FHWA  2023-01-09\n",
       "17                              Mapping the Sea Floor       USGS  2022-12-29\n",
       "18  Vehicle Crash Test Films from the 1970's and 1...      NHTSA  2022-11-26\n",
       "19  Visualizing Rivers and Floodplains with USGS Data      LIDAR  2022-11-07\n",
       "20                  A Rover's First 590 Days* on Mars      Space  2022-10-20\n",
       "21                           Utah Highway LiDAR Scans  Photologs  2022-10-03\n",
       "22                      The GOES-16 Weather Satellite    Weather  2022-09-27\n",
       "23                               The Pillbox Database    Pillbox  2022-09-19\n",
       "24                                  Photologging Vans  Photologs  2022-09-15"
      ]
     },
     "execution_count": 17,
     "metadata": {},
     "output_type": "execute_result"
    }
   ],
   "source": [
    "posts_df = pd.DataFrame([{\n",
    "    \"hed\": el.select(\"h2\")[0].text.strip(),\n",
    "    \"topic\": el.select(\".post-card-primary-tag\")[0].text,\n",
    "    \"date\": el.select(\"time\")[0][\"datetime\"],\n",
    "} for el in post_elements ])\n",
    "\n",
    "posts_df"
   ]
  },
  {
   "cell_type": "markdown",
   "id": "ac3e32d1-2d3b-48d5-8a10-d95fd6b4f5c9",
   "metadata": {
    "slideshow": {
     "slide_type": "subslide"
    }
   },
   "source": [
    "## Q: What are the most common topics?"
   ]
  },
  {
   "cell_type": "code",
   "execution_count": 18,
   "id": "72e4e3a0-a870-4c34-ae5c-c1a3c1f2e22e",
   "metadata": {
    "execution": {
     "iopub.execute_input": "2023-06-29T20:03:32.242463Z",
     "iopub.status.busy": "2023-06-29T20:03:32.242253Z",
     "iopub.status.idle": "2023-06-29T20:03:32.245742Z",
     "shell.execute_reply": "2023-06-29T20:03:32.245505Z"
    },
    "slideshow": {
     "slide_type": "fragment"
    }
   },
   "outputs": [
    {
     "data": {
      "text/plain": [
       "topic\n",
       "USGS         3\n",
       "FAA          3\n",
       "ARMY         2\n",
       "Photologs    2\n",
       "NTIA         1\n",
       "Weather      1\n",
       "Space        1\n",
       "LIDAR        1\n",
       "NHTSA        1\n",
       "FHWA         1\n",
       "DOE          1\n",
       "NIST         1\n",
       "NOAA         1\n",
       "NASA         1\n",
       "Cars         1\n",
       "LLNL         1\n",
       "BLM          1\n",
       "USPTO        1\n",
       "Pillbox      1\n",
       "Name: count, dtype: int64"
      ]
     },
     "execution_count": 18,
     "metadata": {},
     "output_type": "execute_result"
    }
   ],
   "source": [
    "posts_df[\"topic\"].value_counts()"
   ]
  },
  {
   "cell_type": "markdown",
   "id": "4d7c4550-3a54-47ff-a38a-33ba8ed83abc",
   "metadata": {
    "slideshow": {
     "slide_type": "subslide"
    }
   },
   "source": [
    "## __Exercise__: Add a column indicating the post length (in minutes)\n",
    "\n",
    "... and:\n",
    "\n",
    "- Find the longest post(s)\n",
    "- Calculate how long it would take to read all the posts"
   ]
  },
  {
   "cell_type": "code",
   "execution_count": 19,
   "id": "cc41cfa0",
   "metadata": {
    "slideshow": {
     "slide_type": "subslide"
    }
   },
   "outputs": [
    {
     "data": {
      "text/plain": [
       "'3 min read'"
      ]
     },
     "execution_count": 19,
     "metadata": {},
     "output_type": "execute_result"
    }
   ],
   "source": [
    "length_text = el.select(\".post-card-meta-length\")[0].text\n",
    "length_text"
   ]
  },
  {
   "cell_type": "code",
   "execution_count": 20,
   "id": "b750926e",
   "metadata": {
    "slideshow": {
     "slide_type": "fragment"
    }
   },
   "outputs": [
    {
     "data": {
      "text/plain": [
       "['3', 'min', 'read']"
      ]
     },
     "execution_count": 20,
     "metadata": {},
     "output_type": "execute_result"
    }
   ],
   "source": [
    "length_text.split(\" \")"
   ]
  },
  {
   "cell_type": "code",
   "execution_count": 21,
   "id": "4088d94e",
   "metadata": {
    "slideshow": {
     "slide_type": "fragment"
    }
   },
   "outputs": [
    {
     "data": {
      "text/plain": [
       "'3'"
      ]
     },
     "execution_count": 21,
     "metadata": {},
     "output_type": "execute_result"
    }
   ],
   "source": [
    "length_text.split(\" \")[0]"
   ]
  },
  {
   "cell_type": "code",
   "execution_count": 22,
   "id": "50b7a665",
   "metadata": {
    "slideshow": {
     "slide_type": "fragment"
    }
   },
   "outputs": [
    {
     "data": {
      "text/plain": [
       "3"
      ]
     },
     "execution_count": 22,
     "metadata": {},
     "output_type": "execute_result"
    }
   ],
   "source": [
    "int(length_text.split(\" \")[0])"
   ]
  },
  {
   "cell_type": "code",
   "execution_count": 23,
   "id": "b660dcad",
   "metadata": {
    "execution": {
     "iopub.execute_input": "2023-06-29T20:03:32.216196Z",
     "iopub.status.busy": "2023-06-29T20:03:32.216117Z",
     "iopub.status.idle": "2023-06-29T20:03:32.240723Z",
     "shell.execute_reply": "2023-06-29T20:03:32.240465Z"
    },
    "slideshow": {
     "slide_type": "subslide"
    }
   },
   "outputs": [
    {
     "data": {
      "text/html": [
       "<div>\n",
       "<style scoped>\n",
       "    .dataframe tbody tr th:only-of-type {\n",
       "        vertical-align: middle;\n",
       "    }\n",
       "\n",
       "    .dataframe tbody tr th {\n",
       "        vertical-align: top;\n",
       "    }\n",
       "\n",
       "    .dataframe thead th {\n",
       "        text-align: right;\n",
       "    }\n",
       "</style>\n",
       "<table border=\"1\" class=\"dataframe\">\n",
       "  <thead>\n",
       "    <tr style=\"text-align: right;\">\n",
       "      <th></th>\n",
       "      <th>hed</th>\n",
       "      <th>topic</th>\n",
       "      <th>date</th>\n",
       "      <th>minutes</th>\n",
       "    </tr>\n",
       "  </thead>\n",
       "  <tbody>\n",
       "    <tr>\n",
       "      <th>0</th>\n",
       "      <td>Aerial Glacier Photographs</td>\n",
       "      <td>USGS</td>\n",
       "      <td>2024-06-18</td>\n",
       "      <td>6</td>\n",
       "    </tr>\n",
       "    <tr>\n",
       "      <th>1</th>\n",
       "      <td>The Naughty Words the FAA Removed From the Sky</td>\n",
       "      <td>FAA</td>\n",
       "      <td>2024-05-28</td>\n",
       "      <td>8</td>\n",
       "    </tr>\n",
       "    <tr>\n",
       "      <th>2</th>\n",
       "      <td>Trademark Design Codes</td>\n",
       "      <td>USPTO</td>\n",
       "      <td>2024-04-09</td>\n",
       "      <td>7</td>\n",
       "    </tr>\n",
       "    <tr>\n",
       "      <th>3</th>\n",
       "      <td>FAA Aviation Maps</td>\n",
       "      <td>FAA</td>\n",
       "      <td>2024-01-29</td>\n",
       "      <td>9</td>\n",
       "    </tr>\n",
       "    <tr>\n",
       "      <th>4</th>\n",
       "      <td>Government Comic Books</td>\n",
       "      <td>ARMY</td>\n",
       "      <td>2023-11-27</td>\n",
       "      <td>7</td>\n",
       "    </tr>\n",
       "    <tr>\n",
       "      <th>5</th>\n",
       "      <td>Wild Horses</td>\n",
       "      <td>BLM</td>\n",
       "      <td>2023-10-17</td>\n",
       "      <td>5</td>\n",
       "    </tr>\n",
       "    <tr>\n",
       "      <th>6</th>\n",
       "      <td>The Army and Navy Style Guides</td>\n",
       "      <td>ARMY</td>\n",
       "      <td>2023-10-04</td>\n",
       "      <td>8</td>\n",
       "    </tr>\n",
       "    <tr>\n",
       "      <th>7</th>\n",
       "      <td>Nuclear Weapon Test Films</td>\n",
       "      <td>LLNL</td>\n",
       "      <td>2023-09-21</td>\n",
       "      <td>5</td>\n",
       "    </tr>\n",
       "    <tr>\n",
       "      <th>8</th>\n",
       "      <td>All of the 8,331 License Plates in America</td>\n",
       "      <td>Cars</td>\n",
       "      <td>2023-08-21</td>\n",
       "      <td>10</td>\n",
       "    </tr>\n",
       "    <tr>\n",
       "      <th>9</th>\n",
       "      <td>Mapping Volcano Eruptions With Drones</td>\n",
       "      <td>USGS</td>\n",
       "      <td>2023-05-23</td>\n",
       "      <td>7</td>\n",
       "    </tr>\n",
       "    <tr>\n",
       "      <th>10</th>\n",
       "      <td>Here’s All the Rocks We Hauled Back From the Moon</td>\n",
       "      <td>NASA</td>\n",
       "      <td>2023-05-02</td>\n",
       "      <td>6</td>\n",
       "    </tr>\n",
       "    <tr>\n",
       "      <th>11</th>\n",
       "      <td>1,000 Photos of Dolphin Fins</td>\n",
       "      <td>NOAA</td>\n",
       "      <td>2023-04-10</td>\n",
       "      <td>5</td>\n",
       "    </tr>\n",
       "    <tr>\n",
       "      <th>12</th>\n",
       "      <td>The Mirror Fusion Test Facility</td>\n",
       "      <td>DOE</td>\n",
       "      <td>2023-03-27</td>\n",
       "      <td>7</td>\n",
       "    </tr>\n",
       "    <tr>\n",
       "      <th>13</th>\n",
       "      <td>Special Database 18: 3,248 Mugshots Used for T...</td>\n",
       "      <td>NIST</td>\n",
       "      <td>2023-03-18</td>\n",
       "      <td>10</td>\n",
       "    </tr>\n",
       "    <tr>\n",
       "      <th>14</th>\n",
       "      <td>Pilot Manual for a 1940's U.S. Navy Blimp</td>\n",
       "      <td>FAA</td>\n",
       "      <td>2023-02-13</td>\n",
       "      <td>4</td>\n",
       "    </tr>\n",
       "    <tr>\n",
       "      <th>15</th>\n",
       "      <td>The United States Frequency Allocation Chart</td>\n",
       "      <td>NTIA</td>\n",
       "      <td>2023-02-06</td>\n",
       "      <td>9</td>\n",
       "    </tr>\n",
       "    <tr>\n",
       "      <th>16</th>\n",
       "      <td>The Style Guide for America’s Highways: The Ma...</td>\n",
       "      <td>FHWA</td>\n",
       "      <td>2023-01-09</td>\n",
       "      <td>7</td>\n",
       "    </tr>\n",
       "    <tr>\n",
       "      <th>17</th>\n",
       "      <td>Mapping the Sea Floor</td>\n",
       "      <td>USGS</td>\n",
       "      <td>2022-12-29</td>\n",
       "      <td>5</td>\n",
       "    </tr>\n",
       "    <tr>\n",
       "      <th>18</th>\n",
       "      <td>Vehicle Crash Test Films from the 1970's and 1...</td>\n",
       "      <td>NHTSA</td>\n",
       "      <td>2022-11-26</td>\n",
       "      <td>5</td>\n",
       "    </tr>\n",
       "    <tr>\n",
       "      <th>19</th>\n",
       "      <td>Visualizing Rivers and Floodplains with USGS Data</td>\n",
       "      <td>LIDAR</td>\n",
       "      <td>2022-11-07</td>\n",
       "      <td>5</td>\n",
       "    </tr>\n",
       "    <tr>\n",
       "      <th>20</th>\n",
       "      <td>A Rover's First 590 Days* on Mars</td>\n",
       "      <td>Space</td>\n",
       "      <td>2022-10-20</td>\n",
       "      <td>5</td>\n",
       "    </tr>\n",
       "    <tr>\n",
       "      <th>21</th>\n",
       "      <td>Utah Highway LiDAR Scans</td>\n",
       "      <td>Photologs</td>\n",
       "      <td>2022-10-03</td>\n",
       "      <td>5</td>\n",
       "    </tr>\n",
       "    <tr>\n",
       "      <th>22</th>\n",
       "      <td>The GOES-16 Weather Satellite</td>\n",
       "      <td>Weather</td>\n",
       "      <td>2022-09-27</td>\n",
       "      <td>6</td>\n",
       "    </tr>\n",
       "    <tr>\n",
       "      <th>23</th>\n",
       "      <td>The Pillbox Database</td>\n",
       "      <td>Pillbox</td>\n",
       "      <td>2022-09-19</td>\n",
       "      <td>5</td>\n",
       "    </tr>\n",
       "    <tr>\n",
       "      <th>24</th>\n",
       "      <td>Photologging Vans</td>\n",
       "      <td>Photologs</td>\n",
       "      <td>2022-09-15</td>\n",
       "      <td>3</td>\n",
       "    </tr>\n",
       "  </tbody>\n",
       "</table>\n",
       "</div>"
      ],
      "text/plain": [
       "                                                  hed      topic        date  \\\n",
       "0                          Aerial Glacier Photographs       USGS  2024-06-18   \n",
       "1      The Naughty Words the FAA Removed From the Sky        FAA  2024-05-28   \n",
       "2                              Trademark Design Codes      USPTO  2024-04-09   \n",
       "3                                   FAA Aviation Maps        FAA  2024-01-29   \n",
       "4                              Government Comic Books       ARMY  2023-11-27   \n",
       "5                                         Wild Horses        BLM  2023-10-17   \n",
       "6                      The Army and Navy Style Guides       ARMY  2023-10-04   \n",
       "7                           Nuclear Weapon Test Films       LLNL  2023-09-21   \n",
       "8          All of the 8,331 License Plates in America       Cars  2023-08-21   \n",
       "9               Mapping Volcano Eruptions With Drones       USGS  2023-05-23   \n",
       "10  Here’s All the Rocks We Hauled Back From the Moon       NASA  2023-05-02   \n",
       "11                       1,000 Photos of Dolphin Fins       NOAA  2023-04-10   \n",
       "12                    The Mirror Fusion Test Facility        DOE  2023-03-27   \n",
       "13  Special Database 18: 3,248 Mugshots Used for T...       NIST  2023-03-18   \n",
       "14          Pilot Manual for a 1940's U.S. Navy Blimp        FAA  2023-02-13   \n",
       "15       The United States Frequency Allocation Chart       NTIA  2023-02-06   \n",
       "16  The Style Guide for America’s Highways: The Ma...       FHWA  2023-01-09   \n",
       "17                              Mapping the Sea Floor       USGS  2022-12-29   \n",
       "18  Vehicle Crash Test Films from the 1970's and 1...      NHTSA  2022-11-26   \n",
       "19  Visualizing Rivers and Floodplains with USGS Data      LIDAR  2022-11-07   \n",
       "20                  A Rover's First 590 Days* on Mars      Space  2022-10-20   \n",
       "21                           Utah Highway LiDAR Scans  Photologs  2022-10-03   \n",
       "22                      The GOES-16 Weather Satellite    Weather  2022-09-27   \n",
       "23                               The Pillbox Database    Pillbox  2022-09-19   \n",
       "24                                  Photologging Vans  Photologs  2022-09-15   \n",
       "\n",
       "    minutes  \n",
       "0         6  \n",
       "1         8  \n",
       "2         7  \n",
       "3         9  \n",
       "4         7  \n",
       "5         5  \n",
       "6         8  \n",
       "7         5  \n",
       "8        10  \n",
       "9         7  \n",
       "10        6  \n",
       "11        5  \n",
       "12        7  \n",
       "13       10  \n",
       "14        4  \n",
       "15        9  \n",
       "16        7  \n",
       "17        5  \n",
       "18        5  \n",
       "19        5  \n",
       "20        5  \n",
       "21        5  \n",
       "22        6  \n",
       "23        5  \n",
       "24        3  "
      ]
     },
     "execution_count": 23,
     "metadata": {},
     "output_type": "execute_result"
    }
   ],
   "source": [
    "posts_df = pd.DataFrame([{\n",
    "    \"hed\": el.select(\"h2\")[0].text.strip(),\n",
    "    \"topic\": el.select(\".post-card-primary-tag\")[0].text,\n",
    "    \"date\": el.select(\"time\")[0][\"datetime\"],\n",
    "    \"minutes\": int(el.select(\".post-card-meta-length\")[0].text.split(\" \")[0])\n",
    "} for el in post_elements ])\n",
    "\n",
    "posts_df"
   ]
  },
  {
   "cell_type": "markdown",
   "id": "4fde0432",
   "metadata": {
    "slideshow": {
     "slide_type": "subslide"
    }
   },
   "source": [
    "## Q: How can we get the longest articles?"
   ]
  },
  {
   "cell_type": "code",
   "execution_count": 24,
   "id": "a55469ad-ed44-40e3-80ad-bf349f28b6c8",
   "metadata": {
    "execution": {
     "iopub.execute_input": "2023-06-29T20:03:32.247140Z",
     "iopub.status.busy": "2023-06-29T20:03:32.247040Z",
     "iopub.status.idle": "2023-06-29T20:03:32.269512Z",
     "shell.execute_reply": "2023-06-29T20:03:32.269246Z"
    },
    "slideshow": {
     "slide_type": "fragment"
    }
   },
   "outputs": [
    {
     "data": {
      "text/html": [
       "<div>\n",
       "<style scoped>\n",
       "    .dataframe tbody tr th:only-of-type {\n",
       "        vertical-align: middle;\n",
       "    }\n",
       "\n",
       "    .dataframe tbody tr th {\n",
       "        vertical-align: top;\n",
       "    }\n",
       "\n",
       "    .dataframe thead th {\n",
       "        text-align: right;\n",
       "    }\n",
       "</style>\n",
       "<table border=\"1\" class=\"dataframe\">\n",
       "  <thead>\n",
       "    <tr style=\"text-align: right;\">\n",
       "      <th></th>\n",
       "      <th>hed</th>\n",
       "      <th>topic</th>\n",
       "      <th>date</th>\n",
       "      <th>minutes</th>\n",
       "    </tr>\n",
       "  </thead>\n",
       "  <tbody>\n",
       "    <tr>\n",
       "      <th>8</th>\n",
       "      <td>All of the 8,331 License Plates in America</td>\n",
       "      <td>Cars</td>\n",
       "      <td>2023-08-21</td>\n",
       "      <td>10</td>\n",
       "    </tr>\n",
       "    <tr>\n",
       "      <th>13</th>\n",
       "      <td>Special Database 18: 3,248 Mugshots Used for T...</td>\n",
       "      <td>NIST</td>\n",
       "      <td>2023-03-18</td>\n",
       "      <td>10</td>\n",
       "    </tr>\n",
       "  </tbody>\n",
       "</table>\n",
       "</div>"
      ],
      "text/plain": [
       "                                                  hed topic        date  \\\n",
       "8          All of the 8,331 License Plates in America  Cars  2023-08-21   \n",
       "13  Special Database 18: 3,248 Mugshots Used for T...  NIST  2023-03-18   \n",
       "\n",
       "    minutes  \n",
       "8        10  \n",
       "13       10  "
      ]
     },
     "execution_count": 24,
     "metadata": {},
     "output_type": "execute_result"
    }
   ],
   "source": [
    "posts_df.nlargest(1, \"minutes\", keep=\"all\")"
   ]
  },
  {
   "cell_type": "markdown",
   "id": "c505a1ff",
   "metadata": {
    "slideshow": {
     "slide_type": "subslide"
    }
   },
   "source": [
    "## Q: How can we calculate the total length?"
   ]
  },
  {
   "cell_type": "code",
   "execution_count": 25,
   "id": "5dd09031",
   "metadata": {
    "execution": {
     "iopub.execute_input": "2023-06-29T20:03:32.270880Z",
     "iopub.status.busy": "2023-06-29T20:03:32.270797Z",
     "iopub.status.idle": "2023-06-29T20:03:32.273063Z",
     "shell.execute_reply": "2023-06-29T20:03:32.272836Z"
    },
    "slideshow": {
     "slide_type": "fragment"
    }
   },
   "outputs": [
    {
     "data": {
      "text/plain": [
       "159"
      ]
     },
     "execution_count": 25,
     "metadata": {},
     "output_type": "execute_result"
    }
   ],
   "source": [
    "posts_df[\"minutes\"].sum()"
   ]
  },
  {
   "cell_type": "code",
   "execution_count": 26,
   "id": "e79c375b",
   "metadata": {
    "execution": {
     "iopub.execute_input": "2023-06-29T20:03:32.270880Z",
     "iopub.status.busy": "2023-06-29T20:03:32.270797Z",
     "iopub.status.idle": "2023-06-29T20:03:32.273063Z",
     "shell.execute_reply": "2023-06-29T20:03:32.272836Z"
    },
    "slideshow": {
     "slide_type": "fragment"
    }
   },
   "outputs": [
    {
     "data": {
      "text/plain": [
       "2.65"
      ]
     },
     "execution_count": 26,
     "metadata": {},
     "output_type": "execute_result"
    }
   ],
   "source": [
    "posts_df[\"minutes\"].sum() / 60"
   ]
  },
  {
   "cell_type": "markdown",
   "id": "be3329f1",
   "metadata": {
    "slideshow": {
     "slide_type": "skip"
    }
   },
   "source": [
    "---\n",
    "\n",
    "---\n",
    "\n",
    "---"
   ]
  }
 ],
 "metadata": {
  "celltoolbar": "Slideshow",
  "kernelspec": {
   "display_name": "Python 3 (ipykernel)",
   "language": "python",
   "name": "python3"
  },
  "language_info": {
   "codemirror_mode": {
    "name": "ipython",
    "version": 3
   },
   "file_extension": ".py",
   "mimetype": "text/x-python",
   "name": "python",
   "nbconvert_exporter": "python",
   "pygments_lexer": "ipython3",
   "version": "3.10.4"
  }
 },
 "nbformat": 4,
 "nbformat_minor": 5
}
