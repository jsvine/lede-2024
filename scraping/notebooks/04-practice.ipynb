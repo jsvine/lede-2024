{
 "cells": [
  {
   "cell_type": "markdown",
   "id": "479f1956-0d3e-4f99-9bdb-890cdeb53989",
   "metadata": {
    "slideshow": {
     "slide_type": "slide"
    }
   },
   "source": [
    "# 🌐 Scraping, Part 4: Practice, practice, practice!\n",
    "\n",
    "*Let's scrape some dataaaaaaa!*"
   ]
  },
  {
   "cell_type": "markdown",
   "id": "74d9564f-54de-48a9-9914-a5e82c4cf7c3",
   "metadata": {
    "slideshow": {
     "slide_type": "slide"
    }
   },
   "source": [
    "## Let's start with NPR's \"lite\" homepage\n",
    "\n",
    "It's https://text.npr.org/\n",
    "\n",
    "Open it in your browser. View the raw HTML, and also practice popping open the element inspector."
   ]
  },
  {
   "cell_type": "markdown",
   "id": "fd6c0724-2736-415b-ad8a-b3d3ed1a9202",
   "metadata": {
    "slideshow": {
     "slide_type": "subslide"
    }
   },
   "source": [
    "## Q: What do you see? What would you want to extract from it?"
   ]
  },
  {
   "cell_type": "markdown",
   "id": "c3e15b23-f01f-47b3-be70-4d16fb1df43d",
   "metadata": {
    "slideshow": {
     "slide_type": "subslide"
    }
   },
   "source": [
    "Let's load the HTML in Python. Remember how?"
   ]
  },
  {
   "cell_type": "code",
   "execution_count": 1,
   "id": "333d27f9-3e64-4881-a0cf-36f0d8028b70",
   "metadata": {
    "slideshow": {
     "slide_type": "skip"
    }
   },
   "outputs": [],
   "source": [
    "import requests"
   ]
  },
  {
   "cell_type": "code",
   "execution_count": 2,
   "id": "ee6ead5d-2a8b-42d7-8b10-01119f7ce2de",
   "metadata": {
    "slideshow": {
     "slide_type": "fragment"
    }
   },
   "outputs": [
    {
     "name": "stdout",
     "output_type": "stream",
     "text": [
      "<!DOCTYPE html>\n",
      "<html lang=\"en\">\n",
      "<head>\n",
      "    <title>NPR : National Public Radio</title>\n",
      "    <meta http-equiv=\"Content-Type\" content=\"text/html;charset=utf-8\">\n",
      "    <meta name=\"viewport\" content=\"width=device-width\">\n",
      "    <link id=\"favicon\" rel=\"shortcut icon\" type=\"image/png\" href=\"data:image/png;base6\n"
     ]
    }
   ],
   "source": [
    "html = requests.get(\"https://text.npr.org/\").text\n",
    "print(html[:300])"
   ]
  },
  {
   "cell_type": "markdown",
   "id": "8aeaf626",
   "metadata": {
    "slideshow": {
     "slide_type": "subslide"
    }
   },
   "source": [
    "Now let's parse it with `BeautifulSoup`. Remember how?"
   ]
  },
  {
   "cell_type": "code",
   "execution_count": 3,
   "id": "5dc23ad8-fefb-403c-8a2e-c768956fb044",
   "metadata": {
    "slideshow": {
     "slide_type": "skip"
    }
   },
   "outputs": [],
   "source": [
    "from bs4 import BeautifulSoup"
   ]
  },
  {
   "cell_type": "code",
   "execution_count": 4,
   "id": "bf0f0fce",
   "metadata": {
    "slideshow": {
     "slide_type": "fragment"
    }
   },
   "outputs": [],
   "source": [
    "soup = BeautifulSoup(html)"
   ]
  },
  {
   "cell_type": "markdown",
   "id": "a26295e7",
   "metadata": {
    "slideshow": {
     "slide_type": "subslide"
    }
   },
   "source": [
    "## Q: How many links on the page?"
   ]
  },
  {
   "cell_type": "code",
   "execution_count": 5,
   "id": "9e9b5ec7-f8d2-4a8b-a172-4fe1414397ba",
   "metadata": {
    "slideshow": {
     "slide_type": "fragment"
    }
   },
   "outputs": [
    {
     "data": {
      "text/plain": [
       "28"
      ]
     },
     "execution_count": 5,
     "metadata": {},
     "output_type": "execute_result"
    }
   ],
   "source": [
    "links = soup.select(\"a\")\n",
    "len(links)"
   ]
  },
  {
   "cell_type": "markdown",
   "id": "5e8e070b",
   "metadata": {
    "slideshow": {
     "slide_type": "subslide"
    }
   },
   "source": [
    "## Q: How to print the text of each link?"
   ]
  },
  {
   "cell_type": "code",
   "execution_count": 6,
   "id": "6e6504ac",
   "metadata": {
    "slideshow": {
     "slide_type": "fragment"
    }
   },
   "outputs": [
    {
     "name": "stdout",
     "output_type": "stream",
     "text": [
      "Go To Full Site\n",
      "---\n",
      "Millions of Americans are under heat advisories as high temperatures roast the U.S.\n",
      "---\n",
      "Heat wave safety tips from the world's first chief heat officer\n",
      "---\n",
      "Are Biden's immigration moves at odds? Homeland Security chief says they can coexist\n",
      "---\n",
      "Louisiana will require the 10 Commandments displayed in every public school classroom\n",
      "---\n",
      "Tropical Storm Alberto, the first of the season, drenches Texas en route to Mexico\n",
      "---\n",
      "A supermarket trip may soon look different, thanks to electronic shelf labels\n",
      "---\n",
      "Russia and North Korea vow stronger partnership against the West with new treaty\n",
      "---\n",
      "Appreciating our enslaved ancestors despite the relics of the Confederacy\n",
      "---\n",
      "Wildfires blaze across New Mexico and California, prompting evacuations\n",
      "---\n",
      "A Russian court has sentenced a U.S. soldier to nearly 4 years in prison\n",
      "---\n",
      "Willie Mays - the 'Say Hey Kid' considered baseball's best all-around player - dies at 93\n",
      "---\n",
      "Mavis Staples: Tiny Desk Concert\n",
      "---\n",
      "Taylor Swift and Post Malone top the charts again. How long can their dominance last?\n",
      "---\n",
      "She was sobbing in the hospital hallway — then felt a comforting hand on her shoulder\n",
      "---\n",
      "Cyberattack led to harrowing lapses at Ascension hospitals, clinicians say\n",
      "---\n",
      "Juneteenth isn’t just a Black holiday. It’s for all Americans\n",
      "---\n",
      "Galveston was home to the first Juneteenth. Here's how it'll celebrate this year\n",
      "---\n",
      "Poisoned trees gave a wealthy couple a killer view — and united residents in outrage\n",
      "---\n",
      "Ralph Lauren unveils Team USA's Olympic and Paralympic uniforms\n",
      "---\n",
      "Much Ado About First Folios — the world's largest Shakespeare collection reopens\n",
      "---\n",
      "News\n",
      "---\n",
      "Culture\n",
      "---\n",
      "Music\n",
      "---\n",
      "Contact Us\n",
      "---\n",
      "Terms of Use\n",
      "---\n",
      "Permissions\n",
      "---\n",
      "Privacy Policy\n",
      "---\n"
     ]
    }
   ],
   "source": [
    "for link in links:\n",
    "    print(link.text.strip())\n",
    "    print(\"---\")"
   ]
  },
  {
   "cell_type": "markdown",
   "id": "bae25ef5",
   "metadata": {
    "slideshow": {
     "slide_type": "subslide"
    }
   },
   "source": [
    "## Q: What if we want *just* the links to articles?"
   ]
  },
  {
   "cell_type": "code",
   "execution_count": 7,
   "id": "e5155b02",
   "metadata": {
    "slideshow": {
     "slide_type": "fragment"
    }
   },
   "outputs": [
    {
     "data": {
      "text/plain": [
       "20"
      ]
     },
     "execution_count": 7,
     "metadata": {},
     "output_type": "execute_result"
    }
   ],
   "source": [
    "article_links = soup.select(\"main a\")\n",
    "len(article_links)"
   ]
  },
  {
   "cell_type": "code",
   "execution_count": 8,
   "id": "608952e9",
   "metadata": {
    "slideshow": {
     "slide_type": "fragment"
    }
   },
   "outputs": [
    {
     "name": "stdout",
     "output_type": "stream",
     "text": [
      "Millions of Americans are under heat advisories as high temperatures roast the U.S.\n",
      "---\n",
      "Heat wave safety tips from the world's first chief heat officer\n",
      "---\n",
      "Are Biden's immigration moves at odds? Homeland Security chief says they can coexist\n",
      "---\n",
      "Louisiana will require the 10 Commandments displayed in every public school classroom\n",
      "---\n",
      "Tropical Storm Alberto, the first of the season, drenches Texas en route to Mexico\n",
      "---\n",
      "A supermarket trip may soon look different, thanks to electronic shelf labels\n",
      "---\n",
      "Russia and North Korea vow stronger partnership against the West with new treaty\n",
      "---\n",
      "Appreciating our enslaved ancestors despite the relics of the Confederacy\n",
      "---\n",
      "Wildfires blaze across New Mexico and California, prompting evacuations\n",
      "---\n",
      "A Russian court has sentenced a U.S. soldier to nearly 4 years in prison\n",
      "---\n",
      "Willie Mays - the 'Say Hey Kid' considered baseball's best all-around player - dies at 93\n",
      "---\n",
      "Mavis Staples: Tiny Desk Concert\n",
      "---\n",
      "Taylor Swift and Post Malone top the charts again. How long can their dominance last?\n",
      "---\n",
      "She was sobbing in the hospital hallway — then felt a comforting hand on her shoulder\n",
      "---\n",
      "Cyberattack led to harrowing lapses at Ascension hospitals, clinicians say\n",
      "---\n",
      "Juneteenth isn’t just a Black holiday. It’s for all Americans\n",
      "---\n",
      "Galveston was home to the first Juneteenth. Here's how it'll celebrate this year\n",
      "---\n",
      "Poisoned trees gave a wealthy couple a killer view — and united residents in outrage\n",
      "---\n",
      "Ralph Lauren unveils Team USA's Olympic and Paralympic uniforms\n",
      "---\n",
      "Much Ado About First Folios — the world's largest Shakespeare collection reopens\n",
      "---\n"
     ]
    }
   ],
   "source": [
    "for link in article_links:\n",
    "    print(link.text.strip())\n",
    "    print(\"---\")"
   ]
  },
  {
   "cell_type": "markdown",
   "id": "78bdad54",
   "metadata": {
    "slideshow": {
     "slide_type": "subslide"
    }
   },
   "source": [
    "## Q: What are other selectors you could have used, besides `main a`?"
   ]
  },
  {
   "cell_type": "code",
   "execution_count": 9,
   "id": "9ec13431",
   "metadata": {
    "slideshow": {
     "slide_type": "fragment"
    }
   },
   "outputs": [
    {
     "data": {
      "text/plain": [
       "20"
      ]
     },
     "execution_count": 9,
     "metadata": {},
     "output_type": "execute_result"
    }
   ],
   "source": [
    "len(soup.select(\".topic-title\"))"
   ]
  },
  {
   "cell_type": "code",
   "execution_count": 10,
   "id": "1f1afaec",
   "metadata": {
    "slideshow": {
     "slide_type": "fragment"
    }
   },
   "outputs": [
    {
     "data": {
      "text/plain": [
       "20"
      ]
     },
     "execution_count": 10,
     "metadata": {},
     "output_type": "execute_result"
    }
   ],
   "source": [
    "len(soup.select(\".topic-container a\"))"
   ]
  },
  {
   "cell_type": "markdown",
   "id": "15c063ab",
   "metadata": {
    "slideshow": {
     "slide_type": "subslide"
    }
   },
   "source": [
    "## Q: How to get the link to each article?"
   ]
  },
  {
   "cell_type": "code",
   "execution_count": 11,
   "id": "96299907",
   "metadata": {
    "slideshow": {
     "slide_type": "fragment"
    }
   },
   "outputs": [
    {
     "name": "stdout",
     "output_type": "stream",
     "text": [
      "/nx-s1-5012304\n",
      "---\n",
      "/nx-s1-5008872\n",
      "---\n",
      "/nx-s1-5009971\n",
      "---\n",
      "/nx-s1-5012597\n",
      "---\n",
      "/nx-s1-5011971\n",
      "---\n",
      "/nx-s1-5009271\n",
      "---\n",
      "/nx-s1-5011768\n",
      "---\n",
      "/g-s1-4807\n",
      "---\n",
      "/g-s1-5147\n",
      "---\n",
      "/g-s1-5159\n",
      "---\n",
      "/530056425\n",
      "---\n",
      "/1234569831\n",
      "---\n",
      "/nx-s1-5006116\n",
      "---\n",
      "/nx-s1-5009314\n",
      "---\n",
      "/nx-s1-5010219\n",
      "---\n",
      "/g-s1-5022\n",
      "---\n",
      "/g-s1-4916\n",
      "---\n",
      "/nx-s1-5011566\n",
      "---\n",
      "/g-s1-5154\n",
      "---\n",
      "/nx-s1-4950096\n",
      "---\n"
     ]
    }
   ],
   "source": [
    "for link in article_links:\n",
    "    print(link[\"href\"])\n",
    "    print(\"---\")"
   ]
  },
  {
   "cell_type": "markdown",
   "id": "e2ce7541",
   "metadata": {
    "slideshow": {
     "slide_type": "subslide"
    }
   },
   "source": [
    "## Q: How to make it into a \"real\" link?"
   ]
  },
  {
   "cell_type": "code",
   "execution_count": 12,
   "id": "a9554267",
   "metadata": {
    "slideshow": {
     "slide_type": "fragment"
    }
   },
   "outputs": [
    {
     "name": "stdout",
     "output_type": "stream",
     "text": [
      "https://text.npr.org/nx-s1-5012304\n",
      "---\n",
      "https://text.npr.org/nx-s1-5008872\n",
      "---\n",
      "https://text.npr.org/nx-s1-5009971\n",
      "---\n",
      "https://text.npr.org/nx-s1-5012597\n",
      "---\n",
      "https://text.npr.org/nx-s1-5011971\n",
      "---\n",
      "https://text.npr.org/nx-s1-5009271\n",
      "---\n",
      "https://text.npr.org/nx-s1-5011768\n",
      "---\n",
      "https://text.npr.org/g-s1-4807\n",
      "---\n",
      "https://text.npr.org/g-s1-5147\n",
      "---\n",
      "https://text.npr.org/g-s1-5159\n",
      "---\n",
      "https://text.npr.org/530056425\n",
      "---\n",
      "https://text.npr.org/1234569831\n",
      "---\n",
      "https://text.npr.org/nx-s1-5006116\n",
      "---\n",
      "https://text.npr.org/nx-s1-5009314\n",
      "---\n",
      "https://text.npr.org/nx-s1-5010219\n",
      "---\n",
      "https://text.npr.org/g-s1-5022\n",
      "---\n",
      "https://text.npr.org/g-s1-4916\n",
      "---\n",
      "https://text.npr.org/nx-s1-5011566\n",
      "---\n",
      "https://text.npr.org/g-s1-5154\n",
      "---\n",
      "https://text.npr.org/nx-s1-4950096\n",
      "---\n"
     ]
    }
   ],
   "source": [
    "for link in article_links:\n",
    "    print(\"https://text.npr.org\" + link[\"href\"])\n",
    "    print(\"---\")"
   ]
  },
  {
   "cell_type": "markdown",
   "id": "721815d6-15e2-421b-b3e2-14add5bf6a0a",
   "metadata": {
    "slideshow": {
     "slide_type": "subslide"
    }
   },
   "source": [
    "## Exercise: `pandas` refresher\n",
    "\n",
    "How would you make `pandas` `DataFrame` representing each link's text and URL?\n",
    "\n",
    "(You can forget, for now, about what paragraph the link is in.)"
   ]
  },
  {
   "cell_type": "code",
   "execution_count": 13,
   "id": "7737ab13-0108-4514-b62f-bb3bdb0e495f",
   "metadata": {
    "slideshow": {
     "slide_type": "subslide"
    }
   },
   "outputs": [],
   "source": [
    "import pandas as pd"
   ]
  },
  {
   "cell_type": "code",
   "execution_count": 14,
   "id": "cf729565-12db-4af8-a2ab-5163d7d19412",
   "metadata": {
    "slideshow": {
     "slide_type": "fragment"
    }
   },
   "outputs": [
    {
     "data": {
      "text/html": [
       "<div>\n",
       "<style scoped>\n",
       "    .dataframe tbody tr th:only-of-type {\n",
       "        vertical-align: middle;\n",
       "    }\n",
       "\n",
       "    .dataframe tbody tr th {\n",
       "        vertical-align: top;\n",
       "    }\n",
       "\n",
       "    .dataframe thead th {\n",
       "        text-align: right;\n",
       "    }\n",
       "</style>\n",
       "<table border=\"1\" class=\"dataframe\">\n",
       "  <thead>\n",
       "    <tr style=\"text-align: right;\">\n",
       "      <th></th>\n",
       "      <th>text</th>\n",
       "      <th>url</th>\n",
       "    </tr>\n",
       "  </thead>\n",
       "  <tbody>\n",
       "    <tr>\n",
       "      <th>0</th>\n",
       "      <td>Millions of Americans are under heat advisorie...</td>\n",
       "      <td>https://text.npr.org/nx-s1-5012304</td>\n",
       "    </tr>\n",
       "    <tr>\n",
       "      <th>1</th>\n",
       "      <td>Heat wave safety tips from the world's first c...</td>\n",
       "      <td>https://text.npr.org/nx-s1-5008872</td>\n",
       "    </tr>\n",
       "    <tr>\n",
       "      <th>2</th>\n",
       "      <td>Are Biden's immigration moves at odds? Homelan...</td>\n",
       "      <td>https://text.npr.org/nx-s1-5009971</td>\n",
       "    </tr>\n",
       "    <tr>\n",
       "      <th>3</th>\n",
       "      <td>Louisiana will require the 10 Commandments dis...</td>\n",
       "      <td>https://text.npr.org/nx-s1-5012597</td>\n",
       "    </tr>\n",
       "    <tr>\n",
       "      <th>4</th>\n",
       "      <td>Tropical Storm Alberto, the first of the seaso...</td>\n",
       "      <td>https://text.npr.org/nx-s1-5011971</td>\n",
       "    </tr>\n",
       "    <tr>\n",
       "      <th>5</th>\n",
       "      <td>A supermarket trip may soon look different, th...</td>\n",
       "      <td>https://text.npr.org/nx-s1-5009271</td>\n",
       "    </tr>\n",
       "    <tr>\n",
       "      <th>6</th>\n",
       "      <td>Russia and North Korea vow stronger partnershi...</td>\n",
       "      <td>https://text.npr.org/nx-s1-5011768</td>\n",
       "    </tr>\n",
       "    <tr>\n",
       "      <th>7</th>\n",
       "      <td>Appreciating our enslaved ancestors despite th...</td>\n",
       "      <td>https://text.npr.org/g-s1-4807</td>\n",
       "    </tr>\n",
       "    <tr>\n",
       "      <th>8</th>\n",
       "      <td>Wildfires blaze across New Mexico and Californ...</td>\n",
       "      <td>https://text.npr.org/g-s1-5147</td>\n",
       "    </tr>\n",
       "    <tr>\n",
       "      <th>9</th>\n",
       "      <td>A Russian court has sentenced a U.S. soldier t...</td>\n",
       "      <td>https://text.npr.org/g-s1-5159</td>\n",
       "    </tr>\n",
       "    <tr>\n",
       "      <th>10</th>\n",
       "      <td>Willie Mays - the 'Say Hey Kid' considered bas...</td>\n",
       "      <td>https://text.npr.org/530056425</td>\n",
       "    </tr>\n",
       "    <tr>\n",
       "      <th>11</th>\n",
       "      <td>Mavis Staples: Tiny Desk Concert</td>\n",
       "      <td>https://text.npr.org/1234569831</td>\n",
       "    </tr>\n",
       "    <tr>\n",
       "      <th>12</th>\n",
       "      <td>Taylor Swift and Post Malone top the charts ag...</td>\n",
       "      <td>https://text.npr.org/nx-s1-5006116</td>\n",
       "    </tr>\n",
       "    <tr>\n",
       "      <th>13</th>\n",
       "      <td>She was sobbing in the hospital hallway — then...</td>\n",
       "      <td>https://text.npr.org/nx-s1-5009314</td>\n",
       "    </tr>\n",
       "    <tr>\n",
       "      <th>14</th>\n",
       "      <td>Cyberattack led to harrowing lapses at Ascensi...</td>\n",
       "      <td>https://text.npr.org/nx-s1-5010219</td>\n",
       "    </tr>\n",
       "    <tr>\n",
       "      <th>15</th>\n",
       "      <td>Juneteenth isn’t just a Black holiday. It’s fo...</td>\n",
       "      <td>https://text.npr.org/g-s1-5022</td>\n",
       "    </tr>\n",
       "    <tr>\n",
       "      <th>16</th>\n",
       "      <td>Galveston was home to the first Juneteenth. He...</td>\n",
       "      <td>https://text.npr.org/g-s1-4916</td>\n",
       "    </tr>\n",
       "    <tr>\n",
       "      <th>17</th>\n",
       "      <td>Poisoned trees gave a wealthy couple a killer ...</td>\n",
       "      <td>https://text.npr.org/nx-s1-5011566</td>\n",
       "    </tr>\n",
       "    <tr>\n",
       "      <th>18</th>\n",
       "      <td>Ralph Lauren unveils Team USA's Olympic and Pa...</td>\n",
       "      <td>https://text.npr.org/g-s1-5154</td>\n",
       "    </tr>\n",
       "    <tr>\n",
       "      <th>19</th>\n",
       "      <td>Much Ado About First Folios — the world's larg...</td>\n",
       "      <td>https://text.npr.org/nx-s1-4950096</td>\n",
       "    </tr>\n",
       "  </tbody>\n",
       "</table>\n",
       "</div>"
      ],
      "text/plain": [
       "                                                 text  \\\n",
       "0   Millions of Americans are under heat advisorie...   \n",
       "1   Heat wave safety tips from the world's first c...   \n",
       "2   Are Biden's immigration moves at odds? Homelan...   \n",
       "3   Louisiana will require the 10 Commandments dis...   \n",
       "4   Tropical Storm Alberto, the first of the seaso...   \n",
       "5   A supermarket trip may soon look different, th...   \n",
       "6   Russia and North Korea vow stronger partnershi...   \n",
       "7   Appreciating our enslaved ancestors despite th...   \n",
       "8   Wildfires blaze across New Mexico and Californ...   \n",
       "9   A Russian court has sentenced a U.S. soldier t...   \n",
       "10  Willie Mays - the 'Say Hey Kid' considered bas...   \n",
       "11                   Mavis Staples: Tiny Desk Concert   \n",
       "12  Taylor Swift and Post Malone top the charts ag...   \n",
       "13  She was sobbing in the hospital hallway — then...   \n",
       "14  Cyberattack led to harrowing lapses at Ascensi...   \n",
       "15  Juneteenth isn’t just a Black holiday. It’s fo...   \n",
       "16  Galveston was home to the first Juneteenth. He...   \n",
       "17  Poisoned trees gave a wealthy couple a killer ...   \n",
       "18  Ralph Lauren unveils Team USA's Olympic and Pa...   \n",
       "19  Much Ado About First Folios — the world's larg...   \n",
       "\n",
       "                                   url  \n",
       "0   https://text.npr.org/nx-s1-5012304  \n",
       "1   https://text.npr.org/nx-s1-5008872  \n",
       "2   https://text.npr.org/nx-s1-5009971  \n",
       "3   https://text.npr.org/nx-s1-5012597  \n",
       "4   https://text.npr.org/nx-s1-5011971  \n",
       "5   https://text.npr.org/nx-s1-5009271  \n",
       "6   https://text.npr.org/nx-s1-5011768  \n",
       "7       https://text.npr.org/g-s1-4807  \n",
       "8       https://text.npr.org/g-s1-5147  \n",
       "9       https://text.npr.org/g-s1-5159  \n",
       "10      https://text.npr.org/530056425  \n",
       "11     https://text.npr.org/1234569831  \n",
       "12  https://text.npr.org/nx-s1-5006116  \n",
       "13  https://text.npr.org/nx-s1-5009314  \n",
       "14  https://text.npr.org/nx-s1-5010219  \n",
       "15      https://text.npr.org/g-s1-5022  \n",
       "16      https://text.npr.org/g-s1-4916  \n",
       "17  https://text.npr.org/nx-s1-5011566  \n",
       "18      https://text.npr.org/g-s1-5154  \n",
       "19  https://text.npr.org/nx-s1-4950096  "
      ]
     },
     "execution_count": 14,
     "metadata": {},
     "output_type": "execute_result"
    }
   ],
   "source": [
    "article_links_df = pd.DataFrame([ {\n",
    "    \"text\": link.text.strip(),\n",
    "    \"url\": \"https://text.npr.org\" + link[\"href\"]\n",
    "} for link in article_links ])\n",
    "\n",
    "article_links_df"
   ]
  },
  {
   "cell_type": "markdown",
   "id": "62bf6d0a-38fd-42b0-ae52-0f377694b0b6",
   "metadata": {
    "slideshow": {
     "slide_type": "subslide"
    }
   },
   "source": [
    "If [list comprehensions](https://docs.python.org/3/tutorial/datastructures.html#list-comprehensions) aren't your cup of tea, here's another way we could have done that:"
   ]
  },
  {
   "cell_type": "code",
   "execution_count": 15,
   "id": "2b6c08b7-9181-46c6-b93d-90e1901ae691",
   "metadata": {
    "slideshow": {
     "slide_type": "-"
    }
   },
   "outputs": [
    {
     "data": {
      "text/plain": [
       "[{'text': 'Millions of Americans are under heat advisories as high temperatures roast the U.S.',\n",
       "  'url': 'https://text.npr.org/nx-s1-5012304'},\n",
       " {'text': \"Heat wave safety tips from the world's first chief heat officer\",\n",
       "  'url': 'https://text.npr.org/nx-s1-5008872'},\n",
       " {'text': \"Are Biden's immigration moves at odds? Homeland Security chief says they can coexist\",\n",
       "  'url': 'https://text.npr.org/nx-s1-5009971'},\n",
       " {'text': 'Louisiana will require the 10 Commandments displayed in every public school classroom',\n",
       "  'url': 'https://text.npr.org/nx-s1-5012597'},\n",
       " {'text': 'Tropical Storm Alberto, the first of the season, drenches Texas en route to Mexico',\n",
       "  'url': 'https://text.npr.org/nx-s1-5011971'},\n",
       " {'text': 'A supermarket trip may soon look different, thanks to electronic shelf labels',\n",
       "  'url': 'https://text.npr.org/nx-s1-5009271'},\n",
       " {'text': 'Russia and North Korea vow stronger partnership against the West with new treaty',\n",
       "  'url': 'https://text.npr.org/nx-s1-5011768'},\n",
       " {'text': 'Appreciating our enslaved ancestors despite the relics of the Confederacy',\n",
       "  'url': 'https://text.npr.org/g-s1-4807'},\n",
       " {'text': 'Wildfires blaze across New Mexico and California, prompting evacuations',\n",
       "  'url': 'https://text.npr.org/g-s1-5147'},\n",
       " {'text': 'A Russian court has sentenced a U.S. soldier to nearly 4 years in prison',\n",
       "  'url': 'https://text.npr.org/g-s1-5159'},\n",
       " {'text': \"Willie Mays - the 'Say Hey Kid' considered baseball's best all-around player - dies at 93\",\n",
       "  'url': 'https://text.npr.org/530056425'},\n",
       " {'text': 'Mavis Staples: Tiny Desk Concert',\n",
       "  'url': 'https://text.npr.org/1234569831'},\n",
       " {'text': 'Taylor Swift and Post Malone top the charts again. How long can their dominance last?',\n",
       "  'url': 'https://text.npr.org/nx-s1-5006116'},\n",
       " {'text': 'She was sobbing in the hospital hallway — then felt a comforting hand on her shoulder',\n",
       "  'url': 'https://text.npr.org/nx-s1-5009314'},\n",
       " {'text': 'Cyberattack led to harrowing lapses at Ascension hospitals, clinicians say',\n",
       "  'url': 'https://text.npr.org/nx-s1-5010219'},\n",
       " {'text': 'Juneteenth isn’t just a Black holiday. It’s for all Americans',\n",
       "  'url': 'https://text.npr.org/g-s1-5022'},\n",
       " {'text': \"Galveston was home to the first Juneteenth. Here's how it'll celebrate this year\",\n",
       "  'url': 'https://text.npr.org/g-s1-4916'},\n",
       " {'text': 'Poisoned trees gave a wealthy couple a killer view — and united residents in outrage',\n",
       "  'url': 'https://text.npr.org/nx-s1-5011566'},\n",
       " {'text': \"Ralph Lauren unveils Team USA's Olympic and Paralympic uniforms\",\n",
       "  'url': 'https://text.npr.org/g-s1-5154'},\n",
       " {'text': \"Much Ado About First Folios — the world's largest Shakespeare collection reopens\",\n",
       "  'url': 'https://text.npr.org/nx-s1-4950096'}]"
      ]
     },
     "execution_count": 15,
     "metadata": {},
     "output_type": "execute_result"
    }
   ],
   "source": [
    "article_links_list = []\n",
    "\n",
    "for link in article_links:\n",
    "    item_data = {\n",
    "        \"text\": link.text.strip(),\n",
    "        \"url\": \"https://text.npr.org\" + link[\"href\"]\n",
    "    }\n",
    "    article_links_list.append(item_data)\n",
    "\n",
    "article_links_list"
   ]
  },
  {
   "cell_type": "code",
   "execution_count": 16,
   "id": "3276b72c-9313-4539-ad8b-b0155559ca32",
   "metadata": {
    "slideshow": {
     "slide_type": "subslide"
    }
   },
   "outputs": [
    {
     "data": {
      "text/html": [
       "<div>\n",
       "<style scoped>\n",
       "    .dataframe tbody tr th:only-of-type {\n",
       "        vertical-align: middle;\n",
       "    }\n",
       "\n",
       "    .dataframe tbody tr th {\n",
       "        vertical-align: top;\n",
       "    }\n",
       "\n",
       "    .dataframe thead th {\n",
       "        text-align: right;\n",
       "    }\n",
       "</style>\n",
       "<table border=\"1\" class=\"dataframe\">\n",
       "  <thead>\n",
       "    <tr style=\"text-align: right;\">\n",
       "      <th></th>\n",
       "      <th>text</th>\n",
       "      <th>url</th>\n",
       "    </tr>\n",
       "  </thead>\n",
       "  <tbody>\n",
       "    <tr>\n",
       "      <th>0</th>\n",
       "      <td>Millions of Americans are under heat advisorie...</td>\n",
       "      <td>https://text.npr.org/nx-s1-5012304</td>\n",
       "    </tr>\n",
       "    <tr>\n",
       "      <th>1</th>\n",
       "      <td>Heat wave safety tips from the world's first c...</td>\n",
       "      <td>https://text.npr.org/nx-s1-5008872</td>\n",
       "    </tr>\n",
       "    <tr>\n",
       "      <th>2</th>\n",
       "      <td>Are Biden's immigration moves at odds? Homelan...</td>\n",
       "      <td>https://text.npr.org/nx-s1-5009971</td>\n",
       "    </tr>\n",
       "    <tr>\n",
       "      <th>3</th>\n",
       "      <td>Louisiana will require the 10 Commandments dis...</td>\n",
       "      <td>https://text.npr.org/nx-s1-5012597</td>\n",
       "    </tr>\n",
       "    <tr>\n",
       "      <th>4</th>\n",
       "      <td>Tropical Storm Alberto, the first of the seaso...</td>\n",
       "      <td>https://text.npr.org/nx-s1-5011971</td>\n",
       "    </tr>\n",
       "    <tr>\n",
       "      <th>5</th>\n",
       "      <td>A supermarket trip may soon look different, th...</td>\n",
       "      <td>https://text.npr.org/nx-s1-5009271</td>\n",
       "    </tr>\n",
       "    <tr>\n",
       "      <th>6</th>\n",
       "      <td>Russia and North Korea vow stronger partnershi...</td>\n",
       "      <td>https://text.npr.org/nx-s1-5011768</td>\n",
       "    </tr>\n",
       "    <tr>\n",
       "      <th>7</th>\n",
       "      <td>Appreciating our enslaved ancestors despite th...</td>\n",
       "      <td>https://text.npr.org/g-s1-4807</td>\n",
       "    </tr>\n",
       "    <tr>\n",
       "      <th>8</th>\n",
       "      <td>Wildfires blaze across New Mexico and Californ...</td>\n",
       "      <td>https://text.npr.org/g-s1-5147</td>\n",
       "    </tr>\n",
       "    <tr>\n",
       "      <th>9</th>\n",
       "      <td>A Russian court has sentenced a U.S. soldier t...</td>\n",
       "      <td>https://text.npr.org/g-s1-5159</td>\n",
       "    </tr>\n",
       "    <tr>\n",
       "      <th>10</th>\n",
       "      <td>Willie Mays - the 'Say Hey Kid' considered bas...</td>\n",
       "      <td>https://text.npr.org/530056425</td>\n",
       "    </tr>\n",
       "    <tr>\n",
       "      <th>11</th>\n",
       "      <td>Mavis Staples: Tiny Desk Concert</td>\n",
       "      <td>https://text.npr.org/1234569831</td>\n",
       "    </tr>\n",
       "    <tr>\n",
       "      <th>12</th>\n",
       "      <td>Taylor Swift and Post Malone top the charts ag...</td>\n",
       "      <td>https://text.npr.org/nx-s1-5006116</td>\n",
       "    </tr>\n",
       "    <tr>\n",
       "      <th>13</th>\n",
       "      <td>She was sobbing in the hospital hallway — then...</td>\n",
       "      <td>https://text.npr.org/nx-s1-5009314</td>\n",
       "    </tr>\n",
       "    <tr>\n",
       "      <th>14</th>\n",
       "      <td>Cyberattack led to harrowing lapses at Ascensi...</td>\n",
       "      <td>https://text.npr.org/nx-s1-5010219</td>\n",
       "    </tr>\n",
       "    <tr>\n",
       "      <th>15</th>\n",
       "      <td>Juneteenth isn’t just a Black holiday. It’s fo...</td>\n",
       "      <td>https://text.npr.org/g-s1-5022</td>\n",
       "    </tr>\n",
       "    <tr>\n",
       "      <th>16</th>\n",
       "      <td>Galveston was home to the first Juneteenth. He...</td>\n",
       "      <td>https://text.npr.org/g-s1-4916</td>\n",
       "    </tr>\n",
       "    <tr>\n",
       "      <th>17</th>\n",
       "      <td>Poisoned trees gave a wealthy couple a killer ...</td>\n",
       "      <td>https://text.npr.org/nx-s1-5011566</td>\n",
       "    </tr>\n",
       "    <tr>\n",
       "      <th>18</th>\n",
       "      <td>Ralph Lauren unveils Team USA's Olympic and Pa...</td>\n",
       "      <td>https://text.npr.org/g-s1-5154</td>\n",
       "    </tr>\n",
       "    <tr>\n",
       "      <th>19</th>\n",
       "      <td>Much Ado About First Folios — the world's larg...</td>\n",
       "      <td>https://text.npr.org/nx-s1-4950096</td>\n",
       "    </tr>\n",
       "  </tbody>\n",
       "</table>\n",
       "</div>"
      ],
      "text/plain": [
       "                                                 text  \\\n",
       "0   Millions of Americans are under heat advisorie...   \n",
       "1   Heat wave safety tips from the world's first c...   \n",
       "2   Are Biden's immigration moves at odds? Homelan...   \n",
       "3   Louisiana will require the 10 Commandments dis...   \n",
       "4   Tropical Storm Alberto, the first of the seaso...   \n",
       "5   A supermarket trip may soon look different, th...   \n",
       "6   Russia and North Korea vow stronger partnershi...   \n",
       "7   Appreciating our enslaved ancestors despite th...   \n",
       "8   Wildfires blaze across New Mexico and Californ...   \n",
       "9   A Russian court has sentenced a U.S. soldier t...   \n",
       "10  Willie Mays - the 'Say Hey Kid' considered bas...   \n",
       "11                   Mavis Staples: Tiny Desk Concert   \n",
       "12  Taylor Swift and Post Malone top the charts ag...   \n",
       "13  She was sobbing in the hospital hallway — then...   \n",
       "14  Cyberattack led to harrowing lapses at Ascensi...   \n",
       "15  Juneteenth isn’t just a Black holiday. It’s fo...   \n",
       "16  Galveston was home to the first Juneteenth. He...   \n",
       "17  Poisoned trees gave a wealthy couple a killer ...   \n",
       "18  Ralph Lauren unveils Team USA's Olympic and Pa...   \n",
       "19  Much Ado About First Folios — the world's larg...   \n",
       "\n",
       "                                   url  \n",
       "0   https://text.npr.org/nx-s1-5012304  \n",
       "1   https://text.npr.org/nx-s1-5008872  \n",
       "2   https://text.npr.org/nx-s1-5009971  \n",
       "3   https://text.npr.org/nx-s1-5012597  \n",
       "4   https://text.npr.org/nx-s1-5011971  \n",
       "5   https://text.npr.org/nx-s1-5009271  \n",
       "6   https://text.npr.org/nx-s1-5011768  \n",
       "7       https://text.npr.org/g-s1-4807  \n",
       "8       https://text.npr.org/g-s1-5147  \n",
       "9       https://text.npr.org/g-s1-5159  \n",
       "10      https://text.npr.org/530056425  \n",
       "11     https://text.npr.org/1234569831  \n",
       "12  https://text.npr.org/nx-s1-5006116  \n",
       "13  https://text.npr.org/nx-s1-5009314  \n",
       "14  https://text.npr.org/nx-s1-5010219  \n",
       "15      https://text.npr.org/g-s1-5022  \n",
       "16      https://text.npr.org/g-s1-4916  \n",
       "17  https://text.npr.org/nx-s1-5011566  \n",
       "18      https://text.npr.org/g-s1-5154  \n",
       "19  https://text.npr.org/nx-s1-4950096  "
      ]
     },
     "execution_count": 16,
     "metadata": {},
     "output_type": "execute_result"
    }
   ],
   "source": [
    "article_links_df = pd.DataFrame(article_links_list)\n",
    "article_links_df"
   ]
  },
  {
   "cell_type": "markdown",
   "id": "f11ae2a7-75b2-46bf-9555-88492f65349e",
   "metadata": {
    "slideshow": {
     "slide_type": "skip"
    }
   },
   "source": [
    "---\n",
    "\n",
    "---\n",
    "\n",
    "---"
   ]
  }
 ],
 "metadata": {
  "celltoolbar": "Slideshow",
  "kernelspec": {
   "display_name": "Python 3 (ipykernel)",
   "language": "python",
   "name": "python3"
  },
  "language_info": {
   "codemirror_mode": {
    "name": "ipython",
    "version": 3
   },
   "file_extension": ".py",
   "mimetype": "text/x-python",
   "name": "python",
   "nbconvert_exporter": "python",
   "pygments_lexer": "ipython3",
   "version": "3.10.4"
  }
 },
 "nbformat": 4,
 "nbformat_minor": 5
}
